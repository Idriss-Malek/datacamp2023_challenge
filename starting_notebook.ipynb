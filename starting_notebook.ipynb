{
 "cells": [
  {
   "cell_type": "markdown",
   "id": "d4f44400",
   "metadata": {},
   "source": [
    "<h1><center><font color='Green'>Predicting Property Fair Visitors</font></center></h1> <a class=\"anchor\" id=\"2\"></a>"
   ]
  },
  {
   "attachments": {},
   "cell_type": "markdown",
   "id": "b335e133",
   "metadata": {},
   "source": [
    "### Table of Contents\n",
    "   \n",
    "1. ### [Part 0 : Import packages and load the data](#2)\n",
    "    * [Import packages](#2_1)\n",
    "    * [loading data](#2_2)\n",
    "\n",
    "\n",
    "\n",
    "2. ### [Part 1 : Missing Values ](#3)\n",
    "\n",
    "\n",
    "3. ### [Part 2 : Data Preparation for modeling ](#4)\n",
    "    * [datatypes for each column ](#4_1)\n",
    "    * [Numeric columns & distribution histograms ](#4_2)\n",
    "    * [Categorical columns & Frequency distribution histogram ](#4_3)\n",
    "\n",
    "\n",
    "4. ### [Part 3 : Data cleaning ](#5)\n",
    "    * [Handle duplicates: ](#5_1)\n",
    "    * [Handle missing values: ](#5_2)\n",
    "    * [Handle Numerical variables: ](#5_3)\n",
    "    * [Formatting data: ](#5_4)\n",
    "\n",
    "5. ### [Part 5 : Modeling ](#7)\n",
    "    * [Example](#5_1)"
   ]
  },
  {
   "cell_type": "markdown",
   "id": "6ea17cf1",
   "metadata": {},
   "source": [
    "<h1><center><font color='blue'>Part 0 : Import packages and load the data</font></center></h1> <a class=\"anchor\" id=\"2\"></a>"
   ]
  },
  {
   "cell_type": "markdown",
   "id": "efc30ec7",
   "metadata": {},
   "source": [
    "### 0. Import packages"
   ]
  },
  {
   "cell_type": "markdown",
   "id": "86f85ff7",
   "metadata": {},
   "source": [
    "***Load the necessary packages*** <a class=\"anchor\" id=\"2_1\"></a>"
   ]
  },
  {
   "cell_type": "code",
   "execution_count": 2,
   "id": "09eaa0e1",
   "metadata": {},
   "outputs": [
    {
     "name": "stderr",
     "output_type": "stream",
     "text": [
      "IProgress not found. Please update jupyter and ipywidgets. See https://ipywidgets.readthedocs.io/en/stable/user_install.html\n"
     ]
    }
   ],
   "source": [
    "import pandas as pd\n",
    "import numpy as np\n",
    "import seaborn as sns\n",
    "import matplotlib.pyplot as plt\n",
    "from sklearn.impute import SimpleImputer\n",
    "\n",
    "from sklearn.compose import ColumnTransformer\n",
    "from sklearn.preprocessing import StandardScaler, OneHotEncoder\n",
    "from sklearn.pipeline import make_pipeline\n",
    "from sklearn.model_selection import train_test_split, RandomizedSearchCV\n",
    "from imblearn.over_sampling import SMOTE\n",
    "from sklearn.linear_model import LogisticRegression\n",
    "from sklearn.ensemble import RandomForestClassifier, AdaBoostClassifier\n",
    "from sklearn.neighbors import KNeighborsClassifier\n",
    "from sklearn.model_selection import GridSearchCV\n",
    "from sklearn.model_selection import RandomizedSearchCV\n",
    "from sklearn.discriminant_analysis import LinearDiscriminantAnalysis\n",
    "from sklearn.decomposition import PCA\n",
    "\n",
    "import re\n",
    "from sklearn.metrics import (\n",
    "    confusion_matrix,\n",
    "    accuracy_score,\n",
    "    f1_score,\n",
    "    classification_report,\n",
    "    brier_score_loss,\n",
    "    roc_curve,\n",
    "    roc_auc_score,\n",
    "    recall_score,\n",
    "    precision_score,\n",
    ")\n",
    "import plotly.express as px\n",
    "import plotly.graph_objs as go\n",
    "import plotly.subplots as tls\n",
    "import plotly.figure_factory as ff\n",
    "import plotly.offline as py\n",
    "from plotly.offline import download_plotlyjs, init_notebook_mode, plot\n",
    "from sklearn.linear_model import LogisticRegression\n",
    "\n",
    "from sklearn.tree import DecisionTreeClassifier\n",
    "from sklearn.model_selection import GridSearchCV\n",
    "from sklearn.inspection import permutation_importance\n",
    "\n",
    "import os\n",
    "import pickle\n",
    "import shap\n",
    "from sklearn import metrics\n",
    "from sklearn.model_selection import StratifiedKFold\n",
    "from sklearn import preprocessing\n",
    "from scipy.stats import boxcox\n",
    "from sklearn import model_selection"
   ]
  },
  {
   "cell_type": "markdown",
   "id": "9820a9b1",
   "metadata": {},
   "source": [
    "### 1. Loading data <a class=\"anchor\" id=\"2_2\"></a>"
   ]
  },
  {
   "cell_type": "markdown",
   "id": "a75e057a",
   "metadata": {},
   "source": [
    "**Load data into a dataframe**"
   ]
  },
  {
   "cell_type": "markdown",
   "id": "c8446215",
   "metadata": {},
   "source": [
    "Data file are in excel format, hence we can use the built-in functions form pandas pd.read_excel(filename)\n",
    "in the excel file we have 3 sheets, so we load the data of each sheet using this function pd.read_excel(filename,sheet_name='sheet name' )"
   ]
  },
  {
   "cell_type": "code",
   "execution_count": null,
   "id": "cd4caf75",
   "metadata": {},
   "outputs": [],
   "source": [
    "Property_purchase_data = pd.read_excel(\n",
    "    \"Predictive Modeling Assignment interns - Questions _ Data.xlsx\",\n",
    "    sheet_name=\"Property_purchase_data\",\n",
    ")"
   ]
  },
  {
   "cell_type": "code",
   "execution_count": 3,
   "id": "facabbf1",
   "metadata": {},
   "outputs": [],
   "source": [
    "Additional_data = pd.read_excel(\n",
    "    \"Predictive Modeling Assignment interns - Questions _ Data.xlsx\",\n",
    "    sheet_name=\"Additional_data\",\n",
    ")"
   ]
  },
  {
   "cell_type": "markdown",
   "id": "d28c4e78",
   "metadata": {},
   "source": [
    "We will also print the first 4 rows to the screen. Just to see what the first dataset looks like"
   ]
  },
  {
   "cell_type": "code",
   "execution_count": 4,
   "id": "18d05bd2",
   "metadata": {},
   "outputs": [
    {
     "data": {
      "text/html": [
       "<div>\n",
       "<style scoped>\n",
       "    .dataframe tbody tr th:only-of-type {\n",
       "        vertical-align: middle;\n",
       "    }\n",
       "\n",
       "    .dataframe tbody tr th {\n",
       "        vertical-align: top;\n",
       "    }\n",
       "\n",
       "    .dataframe thead th {\n",
       "        text-align: right;\n",
       "    }\n",
       "</style>\n",
       "<table border=\"1\" class=\"dataframe\">\n",
       "  <thead>\n",
       "    <tr style=\"text-align: right;\">\n",
       "      <th></th>\n",
       "      <th>VisitorID</th>\n",
       "      <th>Proj_Group</th>\n",
       "      <th>Proj_Segment</th>\n",
       "      <th>Proj_Type</th>\n",
       "      <th>Visitor_Group</th>\n",
       "      <th>Visitor_Gender</th>\n",
       "      <th>Question_Age</th>\n",
       "      <th>Question_Budget</th>\n",
       "      <th>Question_HHIncome</th>\n",
       "      <th>Question_InstallmentMonthly</th>\n",
       "      <th>Question_MarriageStatus</th>\n",
       "      <th>Question_Nationality</th>\n",
       "      <th>Question_Occupation</th>\n",
       "      <th>Question_P_Income</th>\n",
       "      <th>Question_TimeToMoveIn</th>\n",
       "      <th>Target_Variable_Convert</th>\n",
       "    </tr>\n",
       "  </thead>\n",
       "  <tbody>\n",
       "    <tr>\n",
       "      <th>0</th>\n",
       "      <td>1</td>\n",
       "      <td>Outer</td>\n",
       "      <td>B</td>\n",
       "      <td>Standard Units</td>\n",
       "      <td>Central</td>\n",
       "      <td>F</td>\n",
       "      <td>51 +</td>\n",
       "      <td>11.3</td>\n",
       "      <td>610326</td>\n",
       "      <td>100133</td>\n",
       "      <td>Single</td>\n",
       "      <td>Not Answer</td>\n",
       "      <td>Business Owner</td>\n",
       "      <td>Not Answer</td>\n",
       "      <td>Not Answer</td>\n",
       "      <td>False</td>\n",
       "    </tr>\n",
       "    <tr>\n",
       "      <th>1</th>\n",
       "      <td>2</td>\n",
       "      <td>Outer</td>\n",
       "      <td>A</td>\n",
       "      <td>Standard Units</td>\n",
       "      <td>Outer</td>\n",
       "      <td>M</td>\n",
       "      <td>46 - 50</td>\n",
       "      <td>13.5</td>\n",
       "      <td>421363</td>\n",
       "      <td>Not Answer</td>\n",
       "      <td>Married with Children</td>\n",
       "      <td>Not Answer</td>\n",
       "      <td>Other(Please specify)</td>\n",
       "      <td>225000</td>\n",
       "      <td>Not Answer</td>\n",
       "      <td>False</td>\n",
       "    </tr>\n",
       "    <tr>\n",
       "      <th>2</th>\n",
       "      <td>3</td>\n",
       "      <td>Central</td>\n",
       "      <td>B</td>\n",
       "      <td>Premium Units</td>\n",
       "      <td>Central</td>\n",
       "      <td>F</td>\n",
       "      <td>51 +</td>\n",
       "      <td>11.3</td>\n",
       "      <td>Not Answer</td>\n",
       "      <td>Not Answer</td>\n",
       "      <td>Not Answer</td>\n",
       "      <td>India</td>\n",
       "      <td>Not Answer</td>\n",
       "      <td>Not Answer</td>\n",
       "      <td>Not Answer</td>\n",
       "      <td>False</td>\n",
       "    </tr>\n",
       "    <tr>\n",
       "      <th>3</th>\n",
       "      <td>4</td>\n",
       "      <td>Urban</td>\n",
       "      <td>A</td>\n",
       "      <td>Standard Units</td>\n",
       "      <td>Central</td>\n",
       "      <td>M</td>\n",
       "      <td>51 +</td>\n",
       "      <td>Not Answer</td>\n",
       "      <td>Not Answer</td>\n",
       "      <td>Not Answer</td>\n",
       "      <td>Married with Children</td>\n",
       "      <td>Not Answer</td>\n",
       "      <td>Business Owner</td>\n",
       "      <td>Not Answer</td>\n",
       "      <td>Not Answer</td>\n",
       "      <td>False</td>\n",
       "    </tr>\n",
       "  </tbody>\n",
       "</table>\n",
       "</div>"
      ],
      "text/plain": [
       "   VisitorID Proj_Group Proj_Segment       Proj_Type Visitor_Group  \\\n",
       "0          1      Outer            B  Standard Units       Central   \n",
       "1          2      Outer            A  Standard Units         Outer   \n",
       "2          3    Central            B   Premium Units       Central   \n",
       "3          4      Urban            A  Standard Units       Central   \n",
       "\n",
       "  Visitor_Gender Question_Age Question_Budget Question_HHIncome  \\\n",
       "0              F         51 +            11.3            610326   \n",
       "1              M      46 - 50            13.5            421363   \n",
       "2              F         51 +            11.3        Not Answer   \n",
       "3              M         51 +      Not Answer        Not Answer   \n",
       "\n",
       "  Question_InstallmentMonthly Question_MarriageStatus Question_Nationality  \\\n",
       "0                      100133                  Single           Not Answer   \n",
       "1                  Not Answer   Married with Children           Not Answer   \n",
       "2                  Not Answer              Not Answer                India   \n",
       "3                  Not Answer   Married with Children           Not Answer   \n",
       "\n",
       "     Question_Occupation Question_P_Income Question_TimeToMoveIn  \\\n",
       "0         Business Owner        Not Answer            Not Answer   \n",
       "1  Other(Please specify)            225000            Not Answer   \n",
       "2             Not Answer        Not Answer            Not Answer   \n",
       "3         Business Owner        Not Answer            Not Answer   \n",
       "\n",
       "   Target_Variable_Convert  \n",
       "0                    False  \n",
       "1                    False  \n",
       "2                    False  \n",
       "3                    False  "
      ]
     },
     "execution_count": 4,
     "metadata": {},
     "output_type": "execute_result"
    }
   ],
   "source": [
    "Property_purchase_data.head(4)"
   ]
  },
  {
   "cell_type": "code",
   "execution_count": 5,
   "id": "891d9001",
   "metadata": {},
   "outputs": [
    {
     "data": {
      "text/html": [
       "<div>\n",
       "<style scoped>\n",
       "    .dataframe tbody tr th:only-of-type {\n",
       "        vertical-align: middle;\n",
       "    }\n",
       "\n",
       "    .dataframe tbody tr th {\n",
       "        vertical-align: top;\n",
       "    }\n",
       "\n",
       "    .dataframe thead th {\n",
       "        text-align: right;\n",
       "    }\n",
       "</style>\n",
       "<table border=\"1\" class=\"dataframe\">\n",
       "  <thead>\n",
       "    <tr style=\"text-align: right;\">\n",
       "      <th></th>\n",
       "      <th>VisitorID</th>\n",
       "      <th>Question_Property_Buy_Objective</th>\n",
       "      <th>Question_Channel</th>\n",
       "      <th>Question_Factors_Considered</th>\n",
       "      <th>Question_Reason_to_visit_property_fair</th>\n",
       "    </tr>\n",
       "  </thead>\n",
       "  <tbody>\n",
       "    <tr>\n",
       "      <th>0</th>\n",
       "      <td>1</td>\n",
       "      <td>Residence</td>\n",
       "      <td>Not_Answer</td>\n",
       "      <td>Near_ShoppingMall</td>\n",
       "      <td>Company</td>\n",
       "    </tr>\n",
       "    <tr>\n",
       "      <th>1</th>\n",
       "      <td>2</td>\n",
       "      <td>NaN</td>\n",
       "      <td>Billboard</td>\n",
       "      <td>NaN</td>\n",
       "      <td>Location</td>\n",
       "    </tr>\n",
       "    <tr>\n",
       "      <th>2</th>\n",
       "      <td>3</td>\n",
       "      <td>Residence</td>\n",
       "      <td>Billboard</td>\n",
       "      <td>Not_Answer</td>\n",
       "      <td>Location</td>\n",
       "    </tr>\n",
       "    <tr>\n",
       "      <th>3</th>\n",
       "      <td>4</td>\n",
       "      <td>Residence</td>\n",
       "      <td>Billboard</td>\n",
       "      <td>Not_Answer</td>\n",
       "      <td>Location</td>\n",
       "    </tr>\n",
       "  </tbody>\n",
       "</table>\n",
       "</div>"
      ],
      "text/plain": [
       "   VisitorID Question_Property_Buy_Objective Question_Channel  \\\n",
       "0          1                       Residence       Not_Answer   \n",
       "1          2                             NaN        Billboard   \n",
       "2          3                       Residence        Billboard   \n",
       "3          4                       Residence        Billboard   \n",
       "\n",
       "  Question_Factors_Considered Question_Reason_to_visit_property_fair  \n",
       "0           Near_ShoppingMall                                Company  \n",
       "1                         NaN                               Location  \n",
       "2                  Not_Answer                               Location  \n",
       "3                  Not_Answer                               Location  "
      ]
     },
     "execution_count": 5,
     "metadata": {},
     "output_type": "execute_result"
    }
   ],
   "source": [
    "Additional_data.head(4)"
   ]
  },
  {
   "cell_type": "markdown",
   "id": "174aa9d9",
   "metadata": {},
   "source": [
    "From above we can already see that there are a lot of NaN values. We will replace or remove those values later.\n",
    "\n",
    "we observe also that there is a lot of columns **'Not Answer'** and **'Not_Answer'** values then we should to replace it later to NaN values. \n"
   ]
  },
  {
   "cell_type": "markdown",
   "id": "015c130f",
   "metadata": {},
   "source": [
    "The first 4 rows of the dataframe also show us that there are numeric data and categorical data, that we will need to transform to the right form."
   ]
  },
  {
   "cell_type": "markdown",
   "id": "40be030f",
   "metadata": {},
   "source": [
    "**Combining two dataframes**"
   ]
  },
  {
   "cell_type": "markdown",
   "id": "f806d347",
   "metadata": {},
   "source": [
    "We loaded data in two different pandas dataframes. Nonetheless, we might be interested in putting the data into a single dataframe to access it more\n",
    "easily. We can merge the two dataframes on a common column ( VisitorID ) using the function pd.merge() from pandas.\n"
   ]
  },
  {
   "cell_type": "code",
   "execution_count": 6,
   "id": "b9358b9d",
   "metadata": {},
   "outputs": [],
   "source": [
    "train = pd.merge(Additional_data, Property_purchase_data, on=\"VisitorID\")"
   ]
  },
  {
   "cell_type": "markdown",
   "id": "99d819c2",
   "metadata": {},
   "source": [
    "Let's take a look at the new train dataframe, this time at the last 4 rows."
   ]
  },
  {
   "cell_type": "code",
   "execution_count": 7,
   "id": "5248eb9e",
   "metadata": {},
   "outputs": [
    {
     "data": {
      "text/html": [
       "<div>\n",
       "<style scoped>\n",
       "    .dataframe tbody tr th:only-of-type {\n",
       "        vertical-align: middle;\n",
       "    }\n",
       "\n",
       "    .dataframe tbody tr th {\n",
       "        vertical-align: top;\n",
       "    }\n",
       "\n",
       "    .dataframe thead th {\n",
       "        text-align: right;\n",
       "    }\n",
       "</style>\n",
       "<table border=\"1\" class=\"dataframe\">\n",
       "  <thead>\n",
       "    <tr style=\"text-align: right;\">\n",
       "      <th></th>\n",
       "      <th>VisitorID</th>\n",
       "      <th>Question_Property_Buy_Objective</th>\n",
       "      <th>Question_Channel</th>\n",
       "      <th>Question_Factors_Considered</th>\n",
       "      <th>Question_Reason_to_visit_property_fair</th>\n",
       "      <th>Proj_Group</th>\n",
       "      <th>Proj_Segment</th>\n",
       "      <th>Proj_Type</th>\n",
       "      <th>Visitor_Group</th>\n",
       "      <th>Visitor_Gender</th>\n",
       "      <th>Question_Age</th>\n",
       "      <th>Question_Budget</th>\n",
       "      <th>Question_HHIncome</th>\n",
       "      <th>Question_InstallmentMonthly</th>\n",
       "      <th>Question_MarriageStatus</th>\n",
       "      <th>Question_Nationality</th>\n",
       "      <th>Question_Occupation</th>\n",
       "      <th>Question_P_Income</th>\n",
       "      <th>Question_TimeToMoveIn</th>\n",
       "      <th>Target_Variable_Convert</th>\n",
       "    </tr>\n",
       "  </thead>\n",
       "  <tbody>\n",
       "    <tr>\n",
       "      <th>119996</th>\n",
       "      <td>119997</td>\n",
       "      <td>Residence</td>\n",
       "      <td>Not_Answer</td>\n",
       "      <td>Not_Answer</td>\n",
       "      <td>Not_Answer</td>\n",
       "      <td>Urban</td>\n",
       "      <td>D</td>\n",
       "      <td>Standard Units</td>\n",
       "      <td>Outer</td>\n",
       "      <td>M</td>\n",
       "      <td>31 - 35</td>\n",
       "      <td>5.5</td>\n",
       "      <td>190676</td>\n",
       "      <td>Not Answer</td>\n",
       "      <td>Married</td>\n",
       "      <td>Not Answer</td>\n",
       "      <td>Not Answer</td>\n",
       "      <td>Not Answer</td>\n",
       "      <td>Not Answer</td>\n",
       "      <td>False</td>\n",
       "    </tr>\n",
       "    <tr>\n",
       "      <th>119997</th>\n",
       "      <td>119998</td>\n",
       "      <td>Residence</td>\n",
       "      <td>Referral</td>\n",
       "      <td>Not_Answer</td>\n",
       "      <td>Location</td>\n",
       "      <td>Outer</td>\n",
       "      <td>B</td>\n",
       "      <td>Standard Units</td>\n",
       "      <td>Central</td>\n",
       "      <td>F</td>\n",
       "      <td>Not Answer</td>\n",
       "      <td>Not Answer</td>\n",
       "      <td>Not Answer</td>\n",
       "      <td>Not Answer</td>\n",
       "      <td>Married</td>\n",
       "      <td>Not Answer</td>\n",
       "      <td>Business Employee</td>\n",
       "      <td>Not Answer</td>\n",
       "      <td>Not Answer</td>\n",
       "      <td>False</td>\n",
       "    </tr>\n",
       "    <tr>\n",
       "      <th>119998</th>\n",
       "      <td>119999</td>\n",
       "      <td>Residence</td>\n",
       "      <td>Not_Answer</td>\n",
       "      <td>Not_Answer</td>\n",
       "      <td>Company</td>\n",
       "      <td>Urban</td>\n",
       "      <td>C</td>\n",
       "      <td>Standard Units</td>\n",
       "      <td>Major</td>\n",
       "      <td>F</td>\n",
       "      <td>25 - 30</td>\n",
       "      <td>7.5</td>\n",
       "      <td>430822</td>\n",
       "      <td>72532</td>\n",
       "      <td>Single</td>\n",
       "      <td>Not Answer</td>\n",
       "      <td>Civil Servant</td>\n",
       "      <td>Not Answer</td>\n",
       "      <td>Not Answer</td>\n",
       "      <td>True</td>\n",
       "    </tr>\n",
       "    <tr>\n",
       "      <th>119999</th>\n",
       "      <td>120000</td>\n",
       "      <td>Residence</td>\n",
       "      <td>TV</td>\n",
       "      <td>Near_Previous_Home</td>\n",
       "      <td>Location</td>\n",
       "      <td>Urban</td>\n",
       "      <td>B</td>\n",
       "      <td>Standard Units</td>\n",
       "      <td>Not Answer</td>\n",
       "      <td>M</td>\n",
       "      <td>41 - 45</td>\n",
       "      <td>7.5</td>\n",
       "      <td>105331</td>\n",
       "      <td>49976</td>\n",
       "      <td>Married</td>\n",
       "      <td>Not Answer</td>\n",
       "      <td>Business Employee</td>\n",
       "      <td>Not Answer</td>\n",
       "      <td>Not Answer</td>\n",
       "      <td>False</td>\n",
       "    </tr>\n",
       "  </tbody>\n",
       "</table>\n",
       "</div>"
      ],
      "text/plain": [
       "        VisitorID Question_Property_Buy_Objective Question_Channel  \\\n",
       "119996     119997                       Residence       Not_Answer   \n",
       "119997     119998                       Residence         Referral   \n",
       "119998     119999                       Residence       Not_Answer   \n",
       "119999     120000                       Residence               TV   \n",
       "\n",
       "       Question_Factors_Considered Question_Reason_to_visit_property_fair  \\\n",
       "119996                  Not_Answer                             Not_Answer   \n",
       "119997                  Not_Answer                               Location   \n",
       "119998                  Not_Answer                                Company   \n",
       "119999          Near_Previous_Home                               Location   \n",
       "\n",
       "       Proj_Group Proj_Segment       Proj_Type Visitor_Group Visitor_Gender  \\\n",
       "119996      Urban            D  Standard Units         Outer              M   \n",
       "119997      Outer            B  Standard Units       Central              F   \n",
       "119998      Urban            C  Standard Units         Major              F   \n",
       "119999      Urban            B  Standard Units    Not Answer              M   \n",
       "\n",
       "       Question_Age Question_Budget Question_HHIncome  \\\n",
       "119996      31 - 35             5.5            190676   \n",
       "119997   Not Answer      Not Answer        Not Answer   \n",
       "119998      25 - 30             7.5            430822   \n",
       "119999      41 - 45             7.5            105331   \n",
       "\n",
       "       Question_InstallmentMonthly Question_MarriageStatus  \\\n",
       "119996                  Not Answer                 Married   \n",
       "119997                  Not Answer                 Married   \n",
       "119998                       72532                  Single   \n",
       "119999                       49976                 Married   \n",
       "\n",
       "       Question_Nationality Question_Occupation Question_P_Income  \\\n",
       "119996           Not Answer          Not Answer        Not Answer   \n",
       "119997           Not Answer   Business Employee        Not Answer   \n",
       "119998           Not Answer       Civil Servant        Not Answer   \n",
       "119999           Not Answer   Business Employee        Not Answer   \n",
       "\n",
       "       Question_TimeToMoveIn  Target_Variable_Convert  \n",
       "119996            Not Answer                    False  \n",
       "119997            Not Answer                    False  \n",
       "119998            Not Answer                     True  \n",
       "119999            Not Answer                    False  "
      ]
     },
     "execution_count": 7,
     "metadata": {},
     "output_type": "execute_result"
    }
   ],
   "source": [
    "train.tail(4)"
   ]
  },
  {
   "cell_type": "markdown",
   "id": "9493be33",
   "metadata": {},
   "source": [
    "<h1><center><font color='blue'>Part 1 : Missing Values </font></center></h1> <a class=\"anchor\" id=\"3\"></a>"
   ]
  },
  {
   "cell_type": "markdown",
   "id": "cb342caa",
   "metadata": {},
   "source": [
    "**The list of variables with missing data and number of missing values** \n",
    "\n",
    "We observe that there are a lot of columns with 'Not Answer' and 'Not_Answer' values representing the NAN values. Thus, we should replace them with NaN values."
   ]
  },
  {
   "cell_type": "code",
   "execution_count": 8,
   "id": "3207c6e2",
   "metadata": {},
   "outputs": [],
   "source": [
    "train = train.replace(\"Not Answer\", np.nan)\n",
    "train = train.replace(\"Not_Answer\", np.nan)"
   ]
  },
  {
   "cell_type": "markdown",
   "id": "8e5c669a",
   "metadata": {},
   "source": [
    "This code is replacing two different strings in a pandas DataFrame train.\n",
    "\n",
    "The first line replaces all occurrences of the string \"Not Answer\" with np.nan, which stands for \"Not a Number\". This is a common way to represent missing or undefined values in numerical computations.\n",
    "\n",
    "The second line replaces all occurrences of the string \"Not_Answer\" with np.nan.\n",
    "\n",
    "By replacing these two strings with np.nan, the code is essentially indicating that the values corresponding to these strings are missing or undefined. This will allow for easier handling of missing data in any further analysis or processing of the data in the train DataFrame."
   ]
  },
  {
   "cell_type": "markdown",
   "id": "9c059514",
   "metadata": {},
   "source": [
    "We are also concerned we have a lot of missing data so we can check how much of our data is missing.\n",
    "\n",
    "**Note:** We've transformed the output to a dataframe to facilitate visualization. This will be used for data cleaning in the next exercise."
   ]
  },
  {
   "cell_type": "code",
   "execution_count": 9,
   "id": "72041582",
   "metadata": {
    "scrolled": false
   },
   "outputs": [
    {
     "data": {
      "text/html": [
       "<div>\n",
       "<style scoped>\n",
       "    .dataframe tbody tr th:only-of-type {\n",
       "        vertical-align: middle;\n",
       "    }\n",
       "\n",
       "    .dataframe tbody tr th {\n",
       "        vertical-align: top;\n",
       "    }\n",
       "\n",
       "    .dataframe thead th {\n",
       "        text-align: right;\n",
       "    }\n",
       "</style>\n",
       "<table border=\"1\" class=\"dataframe\">\n",
       "  <thead>\n",
       "    <tr style=\"text-align: right;\">\n",
       "      <th></th>\n",
       "      <th>Missing values (%)</th>\n",
       "    </tr>\n",
       "  </thead>\n",
       "  <tbody>\n",
       "    <tr>\n",
       "      <th>VisitorID</th>\n",
       "      <td>0.000000</td>\n",
       "    </tr>\n",
       "    <tr>\n",
       "      <th>Question_Property_Buy_Objective</th>\n",
       "      <td>60.086667</td>\n",
       "    </tr>\n",
       "    <tr>\n",
       "      <th>Question_Channel</th>\n",
       "      <td>16.069167</td>\n",
       "    </tr>\n",
       "    <tr>\n",
       "      <th>Question_Factors_Considered</th>\n",
       "      <td>67.446667</td>\n",
       "    </tr>\n",
       "    <tr>\n",
       "      <th>Question_Reason_to_visit_property_fair</th>\n",
       "      <td>19.959167</td>\n",
       "    </tr>\n",
       "    <tr>\n",
       "      <th>Proj_Group</th>\n",
       "      <td>0.000000</td>\n",
       "    </tr>\n",
       "    <tr>\n",
       "      <th>Proj_Segment</th>\n",
       "      <td>0.000000</td>\n",
       "    </tr>\n",
       "    <tr>\n",
       "      <th>Proj_Type</th>\n",
       "      <td>0.000000</td>\n",
       "    </tr>\n",
       "    <tr>\n",
       "      <th>Visitor_Group</th>\n",
       "      <td>33.058333</td>\n",
       "    </tr>\n",
       "    <tr>\n",
       "      <th>Visitor_Gender</th>\n",
       "      <td>1.331667</td>\n",
       "    </tr>\n",
       "    <tr>\n",
       "      <th>Question_Age</th>\n",
       "      <td>17.050833</td>\n",
       "    </tr>\n",
       "    <tr>\n",
       "      <th>Question_Budget</th>\n",
       "      <td>14.375833</td>\n",
       "    </tr>\n",
       "    <tr>\n",
       "      <th>Question_HHIncome</th>\n",
       "      <td>26.681667</td>\n",
       "    </tr>\n",
       "    <tr>\n",
       "      <th>Question_InstallmentMonthly</th>\n",
       "      <td>61.226667</td>\n",
       "    </tr>\n",
       "    <tr>\n",
       "      <th>Question_MarriageStatus</th>\n",
       "      <td>19.531667</td>\n",
       "    </tr>\n",
       "    <tr>\n",
       "      <th>Question_Nationality</th>\n",
       "      <td>81.748333</td>\n",
       "    </tr>\n",
       "    <tr>\n",
       "      <th>Question_Occupation</th>\n",
       "      <td>20.267500</td>\n",
       "    </tr>\n",
       "    <tr>\n",
       "      <th>Question_P_Income</th>\n",
       "      <td>64.428333</td>\n",
       "    </tr>\n",
       "    <tr>\n",
       "      <th>Question_TimeToMoveIn</th>\n",
       "      <td>98.999167</td>\n",
       "    </tr>\n",
       "    <tr>\n",
       "      <th>Target_Variable_Convert</th>\n",
       "      <td>0.000000</td>\n",
       "    </tr>\n",
       "  </tbody>\n",
       "</table>\n",
       "</div>"
      ],
      "text/plain": [
       "                                        Missing values (%)\n",
       "VisitorID                                         0.000000\n",
       "Question_Property_Buy_Objective                  60.086667\n",
       "Question_Channel                                 16.069167\n",
       "Question_Factors_Considered                      67.446667\n",
       "Question_Reason_to_visit_property_fair           19.959167\n",
       "Proj_Group                                        0.000000\n",
       "Proj_Segment                                      0.000000\n",
       "Proj_Type                                         0.000000\n",
       "Visitor_Group                                    33.058333\n",
       "Visitor_Gender                                    1.331667\n",
       "Question_Age                                     17.050833\n",
       "Question_Budget                                  14.375833\n",
       "Question_HHIncome                                26.681667\n",
       "Question_InstallmentMonthly                      61.226667\n",
       "Question_MarriageStatus                          19.531667\n",
       "Question_Nationality                             81.748333\n",
       "Question_Occupation                              20.267500\n",
       "Question_P_Income                                64.428333\n",
       "Question_TimeToMoveIn                            98.999167\n",
       "Target_Variable_Convert                           0.000000"
      ]
     },
     "execution_count": 9,
     "metadata": {},
     "output_type": "execute_result"
    }
   ],
   "source": [
    "pd.DataFrame({\"Missing values (%)\": train.isnull().sum() / len(train.index) * 100})"
   ]
  },
  {
   "cell_type": "markdown",
   "id": "51c27e2f",
   "metadata": {},
   "source": [
    "**Data types**\n",
    "\n",
    "Often, it is useful to understand what data we are dealing with, as the data types might end up causing errors into our analysis at a later stage."
   ]
  },
  {
   "cell_type": "code",
   "execution_count": 10,
   "id": "ce76dbae",
   "metadata": {},
   "outputs": [
    {
     "data": {
      "text/html": [
       "<div>\n",
       "<style scoped>\n",
       "    .dataframe tbody tr th:only-of-type {\n",
       "        vertical-align: middle;\n",
       "    }\n",
       "\n",
       "    .dataframe tbody tr th {\n",
       "        vertical-align: top;\n",
       "    }\n",
       "\n",
       "    .dataframe thead th {\n",
       "        text-align: right;\n",
       "    }\n",
       "</style>\n",
       "<table border=\"1\" class=\"dataframe\">\n",
       "  <thead>\n",
       "    <tr style=\"text-align: right;\">\n",
       "      <th></th>\n",
       "      <th>Data type</th>\n",
       "    </tr>\n",
       "  </thead>\n",
       "  <tbody>\n",
       "    <tr>\n",
       "      <th>VisitorID</th>\n",
       "      <td>int64</td>\n",
       "    </tr>\n",
       "    <tr>\n",
       "      <th>Question_Property_Buy_Objective</th>\n",
       "      <td>object</td>\n",
       "    </tr>\n",
       "    <tr>\n",
       "      <th>Question_Channel</th>\n",
       "      <td>object</td>\n",
       "    </tr>\n",
       "    <tr>\n",
       "      <th>Question_Factors_Considered</th>\n",
       "      <td>object</td>\n",
       "    </tr>\n",
       "    <tr>\n",
       "      <th>Question_Reason_to_visit_property_fair</th>\n",
       "      <td>object</td>\n",
       "    </tr>\n",
       "    <tr>\n",
       "      <th>Proj_Group</th>\n",
       "      <td>object</td>\n",
       "    </tr>\n",
       "    <tr>\n",
       "      <th>Proj_Segment</th>\n",
       "      <td>object</td>\n",
       "    </tr>\n",
       "    <tr>\n",
       "      <th>Proj_Type</th>\n",
       "      <td>object</td>\n",
       "    </tr>\n",
       "    <tr>\n",
       "      <th>Visitor_Group</th>\n",
       "      <td>object</td>\n",
       "    </tr>\n",
       "    <tr>\n",
       "      <th>Visitor_Gender</th>\n",
       "      <td>object</td>\n",
       "    </tr>\n",
       "    <tr>\n",
       "      <th>Question_Age</th>\n",
       "      <td>object</td>\n",
       "    </tr>\n",
       "    <tr>\n",
       "      <th>Question_Budget</th>\n",
       "      <td>float64</td>\n",
       "    </tr>\n",
       "    <tr>\n",
       "      <th>Question_HHIncome</th>\n",
       "      <td>float64</td>\n",
       "    </tr>\n",
       "    <tr>\n",
       "      <th>Question_InstallmentMonthly</th>\n",
       "      <td>object</td>\n",
       "    </tr>\n",
       "    <tr>\n",
       "      <th>Question_MarriageStatus</th>\n",
       "      <td>object</td>\n",
       "    </tr>\n",
       "    <tr>\n",
       "      <th>Question_Nationality</th>\n",
       "      <td>object</td>\n",
       "    </tr>\n",
       "    <tr>\n",
       "      <th>Question_Occupation</th>\n",
       "      <td>object</td>\n",
       "    </tr>\n",
       "    <tr>\n",
       "      <th>Question_P_Income</th>\n",
       "      <td>float64</td>\n",
       "    </tr>\n",
       "    <tr>\n",
       "      <th>Question_TimeToMoveIn</th>\n",
       "      <td>float64</td>\n",
       "    </tr>\n",
       "    <tr>\n",
       "      <th>Target_Variable_Convert</th>\n",
       "      <td>bool</td>\n",
       "    </tr>\n",
       "  </tbody>\n",
       "</table>\n",
       "</div>"
      ],
      "text/plain": [
       "                                       Data type\n",
       "VisitorID                                  int64\n",
       "Question_Property_Buy_Objective           object\n",
       "Question_Channel                          object\n",
       "Question_Factors_Considered               object\n",
       "Question_Reason_to_visit_property_fair    object\n",
       "Proj_Group                                object\n",
       "Proj_Segment                              object\n",
       "Proj_Type                                 object\n",
       "Visitor_Group                             object\n",
       "Visitor_Gender                            object\n",
       "Question_Age                              object\n",
       "Question_Budget                          float64\n",
       "Question_HHIncome                        float64\n",
       "Question_InstallmentMonthly               object\n",
       "Question_MarriageStatus                   object\n",
       "Question_Nationality                      object\n",
       "Question_Occupation                       object\n",
       "Question_P_Income                        float64\n",
       "Question_TimeToMoveIn                    float64\n",
       "Target_Variable_Convert                     bool"
      ]
     },
     "execution_count": 10,
     "metadata": {},
     "output_type": "execute_result"
    }
   ],
   "source": [
    "pd.DataFrame({\"Data type\": train.dtypes})"
   ]
  },
  {
   "cell_type": "markdown",
   "id": "77449d6e",
   "metadata": {},
   "source": [
    "Upon examining the data, we noticed that the **\"Question_InstallmentMonthly\"** column has an object data type, but it is actually supposed to represent the installment amount in a numerical format, specifically as a float. \n",
    "\n",
    "Additionally, the data in the column includes the string value **'Cash'** which is not relevant to the representation of the installment amount and should be removed."
   ]
  },
  {
   "cell_type": "code",
   "execution_count": 11,
   "id": "6c441709",
   "metadata": {},
   "outputs": [],
   "source": [
    "df_Cash = [i for i in train[\"Question_InstallmentMonthly\"] if i == \"Cash\"]"
   ]
  },
  {
   "cell_type": "markdown",
   "id": "333e5043",
   "metadata": {},
   "source": [
    "The code defines a list comprehension df_Cash that extracts values from the **\"Question_InstallmentMonthly\"** column of a pandas DataFrame train.\n",
    "\n",
    "The list comprehension iterates through each element i in the **\"Question_InstallmentMonthly\"** column and includes i in the list df_Cash if the condition i == 'Cash' is satisfied. In other words, df_Cash will contain all elements in the \"Question_InstallmentMonthly\" column that are equal to the string **'Cash'**.\n",
    "\n",
    "So, this list comprehension essentially creates a new list df_Cash containing all elements from the **\"Question_InstallmentMonthly\"** column that are equal to the string **'Cash'**."
   ]
  },
  {
   "cell_type": "code",
   "execution_count": 12,
   "id": "b51df2de",
   "metadata": {},
   "outputs": [
    {
     "name": "stdout",
     "output_type": "stream",
     "text": [
      "The percentage of the Cash values in data =  3.6025 %\n"
     ]
    }
   ],
   "source": [
    "print(\n",
    "    \"The percentage of the Cash values in data = \", len(df_Cash) / len(train) * 100, \"%\"\n",
    ")"
   ]
  },
  {
   "cell_type": "markdown",
   "id": "63c23a8a",
   "metadata": {},
   "source": [
    "This code calculates and prints the percentage of values in the \"Question_InstallmentMonthly\" column that are equal to the string 'Cash'.\n",
    "\n",
    "The calculation is performed by dividing the length of the list df_Cash (which contains all elements from the \"Question_InstallmentMonthly\" column equal to 'Cash') by the length of the train DataFrame, and then multiplying the result by 100."
   ]
  },
  {
   "cell_type": "code",
   "execution_count": 13,
   "id": "a04abd45",
   "metadata": {},
   "outputs": [],
   "source": [
    "train[\"Question_InstallmentMonthly\"] = train[\"Question_InstallmentMonthly\"].replace(\n",
    "    \"Cash\", np.nan\n",
    ")"
   ]
  },
  {
   "cell_type": "markdown",
   "id": "53a844d1",
   "metadata": {},
   "source": [
    "To resolve this problem should we replace method of a pandas DataFrame to replace all occurrences of the string **Cash** with the special value np.nan, which stands for \"Not a Number\". This is a common way to represent missing or undefined values in numerical computations.\n",
    "\n",
    "The code specifically replaces the **Cash** values in the **\"Question_InstallmentMonthly\"** column of the train DataFrame by reassigning the result of the replace method to the same column.\n",
    "\n",
    "So, this line of code essentially replaces all occurrences of the string **Cash** in the **\"Question_InstallmentMonthly\"** column with np.nan, indicating that these values are missing or undefined. This will allow for easier handling of missing data in any further analysis or processing of the data in the train DataFrame."
   ]
  },
  {
   "cell_type": "code",
   "execution_count": 14,
   "id": "5a115c98",
   "metadata": {},
   "outputs": [
    {
     "data": {
      "text/html": [
       "<div>\n",
       "<style scoped>\n",
       "    .dataframe tbody tr th:only-of-type {\n",
       "        vertical-align: middle;\n",
       "    }\n",
       "\n",
       "    .dataframe tbody tr th {\n",
       "        vertical-align: top;\n",
       "    }\n",
       "\n",
       "    .dataframe thead th {\n",
       "        text-align: right;\n",
       "    }\n",
       "</style>\n",
       "<table border=\"1\" class=\"dataframe\">\n",
       "  <thead>\n",
       "    <tr style=\"text-align: right;\">\n",
       "      <th></th>\n",
       "      <th>Data type</th>\n",
       "    </tr>\n",
       "  </thead>\n",
       "  <tbody>\n",
       "    <tr>\n",
       "      <th>VisitorID</th>\n",
       "      <td>int64</td>\n",
       "    </tr>\n",
       "    <tr>\n",
       "      <th>Question_Property_Buy_Objective</th>\n",
       "      <td>object</td>\n",
       "    </tr>\n",
       "    <tr>\n",
       "      <th>Question_Channel</th>\n",
       "      <td>object</td>\n",
       "    </tr>\n",
       "    <tr>\n",
       "      <th>Question_Factors_Considered</th>\n",
       "      <td>object</td>\n",
       "    </tr>\n",
       "    <tr>\n",
       "      <th>Question_Reason_to_visit_property_fair</th>\n",
       "      <td>object</td>\n",
       "    </tr>\n",
       "    <tr>\n",
       "      <th>Proj_Group</th>\n",
       "      <td>object</td>\n",
       "    </tr>\n",
       "    <tr>\n",
       "      <th>Proj_Segment</th>\n",
       "      <td>object</td>\n",
       "    </tr>\n",
       "    <tr>\n",
       "      <th>Proj_Type</th>\n",
       "      <td>object</td>\n",
       "    </tr>\n",
       "    <tr>\n",
       "      <th>Visitor_Group</th>\n",
       "      <td>object</td>\n",
       "    </tr>\n",
       "    <tr>\n",
       "      <th>Visitor_Gender</th>\n",
       "      <td>object</td>\n",
       "    </tr>\n",
       "    <tr>\n",
       "      <th>Question_Age</th>\n",
       "      <td>object</td>\n",
       "    </tr>\n",
       "    <tr>\n",
       "      <th>Question_Budget</th>\n",
       "      <td>float64</td>\n",
       "    </tr>\n",
       "    <tr>\n",
       "      <th>Question_HHIncome</th>\n",
       "      <td>float64</td>\n",
       "    </tr>\n",
       "    <tr>\n",
       "      <th>Question_InstallmentMonthly</th>\n",
       "      <td>float64</td>\n",
       "    </tr>\n",
       "    <tr>\n",
       "      <th>Question_MarriageStatus</th>\n",
       "      <td>object</td>\n",
       "    </tr>\n",
       "    <tr>\n",
       "      <th>Question_Nationality</th>\n",
       "      <td>object</td>\n",
       "    </tr>\n",
       "    <tr>\n",
       "      <th>Question_Occupation</th>\n",
       "      <td>object</td>\n",
       "    </tr>\n",
       "    <tr>\n",
       "      <th>Question_P_Income</th>\n",
       "      <td>float64</td>\n",
       "    </tr>\n",
       "    <tr>\n",
       "      <th>Question_TimeToMoveIn</th>\n",
       "      <td>float64</td>\n",
       "    </tr>\n",
       "    <tr>\n",
       "      <th>Target_Variable_Convert</th>\n",
       "      <td>bool</td>\n",
       "    </tr>\n",
       "  </tbody>\n",
       "</table>\n",
       "</div>"
      ],
      "text/plain": [
       "                                       Data type\n",
       "VisitorID                                  int64\n",
       "Question_Property_Buy_Objective           object\n",
       "Question_Channel                          object\n",
       "Question_Factors_Considered               object\n",
       "Question_Reason_to_visit_property_fair    object\n",
       "Proj_Group                                object\n",
       "Proj_Segment                              object\n",
       "Proj_Type                                 object\n",
       "Visitor_Group                             object\n",
       "Visitor_Gender                            object\n",
       "Question_Age                              object\n",
       "Question_Budget                          float64\n",
       "Question_HHIncome                        float64\n",
       "Question_InstallmentMonthly              float64\n",
       "Question_MarriageStatus                   object\n",
       "Question_Nationality                      object\n",
       "Question_Occupation                       object\n",
       "Question_P_Income                        float64\n",
       "Question_TimeToMoveIn                    float64\n",
       "Target_Variable_Convert                     bool"
      ]
     },
     "execution_count": 14,
     "metadata": {},
     "output_type": "execute_result"
    }
   ],
   "source": [
    "pd.DataFrame({\"Data type\": train.dtypes})"
   ]
  },
  {
   "cell_type": "markdown",
   "id": "9ad5bb9b",
   "metadata": {},
   "source": [
    "The values in the **\"Question_InstallmentMonthly\"** column will have **3.6025%** added to compensate for missing values."
   ]
  },
  {
   "cell_type": "code",
   "execution_count": 15,
   "id": "c06d04db",
   "metadata": {},
   "outputs": [
    {
     "data": {
      "text/html": [
       "<div>\n",
       "<style scoped>\n",
       "    .dataframe tbody tr th:only-of-type {\n",
       "        vertical-align: middle;\n",
       "    }\n",
       "\n",
       "    .dataframe tbody tr th {\n",
       "        vertical-align: top;\n",
       "    }\n",
       "\n",
       "    .dataframe thead th {\n",
       "        text-align: right;\n",
       "    }\n",
       "</style>\n",
       "<table border=\"1\" class=\"dataframe\">\n",
       "  <thead>\n",
       "    <tr style=\"text-align: right;\">\n",
       "      <th></th>\n",
       "      <th>Missing values (%)</th>\n",
       "    </tr>\n",
       "  </thead>\n",
       "  <tbody>\n",
       "    <tr>\n",
       "      <th>VisitorID</th>\n",
       "      <td>0.000000</td>\n",
       "    </tr>\n",
       "    <tr>\n",
       "      <th>Question_Property_Buy_Objective</th>\n",
       "      <td>60.086667</td>\n",
       "    </tr>\n",
       "    <tr>\n",
       "      <th>Question_Channel</th>\n",
       "      <td>16.069167</td>\n",
       "    </tr>\n",
       "    <tr>\n",
       "      <th>Question_Factors_Considered</th>\n",
       "      <td>67.446667</td>\n",
       "    </tr>\n",
       "    <tr>\n",
       "      <th>Question_Reason_to_visit_property_fair</th>\n",
       "      <td>19.959167</td>\n",
       "    </tr>\n",
       "    <tr>\n",
       "      <th>Proj_Group</th>\n",
       "      <td>0.000000</td>\n",
       "    </tr>\n",
       "    <tr>\n",
       "      <th>Proj_Segment</th>\n",
       "      <td>0.000000</td>\n",
       "    </tr>\n",
       "    <tr>\n",
       "      <th>Proj_Type</th>\n",
       "      <td>0.000000</td>\n",
       "    </tr>\n",
       "    <tr>\n",
       "      <th>Visitor_Group</th>\n",
       "      <td>33.058333</td>\n",
       "    </tr>\n",
       "    <tr>\n",
       "      <th>Visitor_Gender</th>\n",
       "      <td>1.331667</td>\n",
       "    </tr>\n",
       "    <tr>\n",
       "      <th>Question_Age</th>\n",
       "      <td>17.050833</td>\n",
       "    </tr>\n",
       "    <tr>\n",
       "      <th>Question_Budget</th>\n",
       "      <td>14.375833</td>\n",
       "    </tr>\n",
       "    <tr>\n",
       "      <th>Question_HHIncome</th>\n",
       "      <td>26.681667</td>\n",
       "    </tr>\n",
       "    <tr>\n",
       "      <th>Question_InstallmentMonthly</th>\n",
       "      <td>64.829167</td>\n",
       "    </tr>\n",
       "    <tr>\n",
       "      <th>Question_MarriageStatus</th>\n",
       "      <td>19.531667</td>\n",
       "    </tr>\n",
       "    <tr>\n",
       "      <th>Question_Nationality</th>\n",
       "      <td>81.748333</td>\n",
       "    </tr>\n",
       "    <tr>\n",
       "      <th>Question_Occupation</th>\n",
       "      <td>20.267500</td>\n",
       "    </tr>\n",
       "    <tr>\n",
       "      <th>Question_P_Income</th>\n",
       "      <td>64.428333</td>\n",
       "    </tr>\n",
       "    <tr>\n",
       "      <th>Question_TimeToMoveIn</th>\n",
       "      <td>98.999167</td>\n",
       "    </tr>\n",
       "    <tr>\n",
       "      <th>Target_Variable_Convert</th>\n",
       "      <td>0.000000</td>\n",
       "    </tr>\n",
       "  </tbody>\n",
       "</table>\n",
       "</div>"
      ],
      "text/plain": [
       "                                        Missing values (%)\n",
       "VisitorID                                         0.000000\n",
       "Question_Property_Buy_Objective                  60.086667\n",
       "Question_Channel                                 16.069167\n",
       "Question_Factors_Considered                      67.446667\n",
       "Question_Reason_to_visit_property_fair           19.959167\n",
       "Proj_Group                                        0.000000\n",
       "Proj_Segment                                      0.000000\n",
       "Proj_Type                                         0.000000\n",
       "Visitor_Group                                    33.058333\n",
       "Visitor_Gender                                    1.331667\n",
       "Question_Age                                     17.050833\n",
       "Question_Budget                                  14.375833\n",
       "Question_HHIncome                                26.681667\n",
       "Question_InstallmentMonthly                      64.829167\n",
       "Question_MarriageStatus                          19.531667\n",
       "Question_Nationality                             81.748333\n",
       "Question_Occupation                              20.267500\n",
       "Question_P_Income                                64.428333\n",
       "Question_TimeToMoveIn                            98.999167\n",
       "Target_Variable_Convert                           0.000000"
      ]
     },
     "execution_count": 15,
     "metadata": {},
     "output_type": "execute_result"
    }
   ],
   "source": [
    "pd.DataFrame({\"Missing values (%)\": train.isnull().sum() / len(train.index) * 100})"
   ]
  },
  {
   "cell_type": "markdown",
   "id": "b659c680",
   "metadata": {},
   "source": [
    "<h1><center><font color='blue'>Part 2 : Data Preparation for modeling (classification) </font></center></h1> <a class=\"anchor\" id=\"4\"></a>"
   ]
  },
  {
   "cell_type": "markdown",
   "id": "bba7e4c1",
   "metadata": {},
   "source": [
    "### 1. datatypes for each column <a class=\"anchor\" id=\"4_1\"></a>"
   ]
  },
  {
   "cell_type": "code",
   "execution_count": 16,
   "id": "baced5a8",
   "metadata": {},
   "outputs": [
    {
     "data": {
      "text/html": [
       "<div>\n",
       "<style scoped>\n",
       "    .dataframe tbody tr th:only-of-type {\n",
       "        vertical-align: middle;\n",
       "    }\n",
       "\n",
       "    .dataframe tbody tr th {\n",
       "        vertical-align: top;\n",
       "    }\n",
       "\n",
       "    .dataframe thead th {\n",
       "        text-align: right;\n",
       "    }\n",
       "</style>\n",
       "<table border=\"1\" class=\"dataframe\">\n",
       "  <thead>\n",
       "    <tr style=\"text-align: right;\">\n",
       "      <th></th>\n",
       "      <th>VisitorID</th>\n",
       "      <th>Question_Property_Buy_Objective</th>\n",
       "      <th>Question_Channel</th>\n",
       "      <th>Question_Factors_Considered</th>\n",
       "      <th>Question_Reason_to_visit_property_fair</th>\n",
       "      <th>Proj_Group</th>\n",
       "      <th>Proj_Segment</th>\n",
       "      <th>Proj_Type</th>\n",
       "      <th>Visitor_Group</th>\n",
       "      <th>Visitor_Gender</th>\n",
       "      <th>Question_Age</th>\n",
       "      <th>Question_Budget</th>\n",
       "      <th>Question_HHIncome</th>\n",
       "      <th>Question_InstallmentMonthly</th>\n",
       "      <th>Question_MarriageStatus</th>\n",
       "      <th>Question_Nationality</th>\n",
       "      <th>Question_Occupation</th>\n",
       "      <th>Question_P_Income</th>\n",
       "      <th>Question_TimeToMoveIn</th>\n",
       "      <th>Target_Variable_Convert</th>\n",
       "    </tr>\n",
       "  </thead>\n",
       "  <tbody>\n",
       "    <tr>\n",
       "      <th>76707</th>\n",
       "      <td>76708</td>\n",
       "      <td>NaN</td>\n",
       "      <td>Billboard</td>\n",
       "      <td>NaN</td>\n",
       "      <td>NaN</td>\n",
       "      <td>Major</td>\n",
       "      <td>C</td>\n",
       "      <td>Premium Units</td>\n",
       "      <td>NaN</td>\n",
       "      <td>M</td>\n",
       "      <td>NaN</td>\n",
       "      <td>NaN</td>\n",
       "      <td>NaN</td>\n",
       "      <td>NaN</td>\n",
       "      <td>NaN</td>\n",
       "      <td>NaN</td>\n",
       "      <td>NaN</td>\n",
       "      <td>NaN</td>\n",
       "      <td>NaN</td>\n",
       "      <td>False</td>\n",
       "    </tr>\n",
       "    <tr>\n",
       "      <th>71657</th>\n",
       "      <td>71658</td>\n",
       "      <td>NaN</td>\n",
       "      <td>Billboard</td>\n",
       "      <td>Near_work_place</td>\n",
       "      <td>Location</td>\n",
       "      <td>Urban</td>\n",
       "      <td>B</td>\n",
       "      <td>Premium Units</td>\n",
       "      <td>NaN</td>\n",
       "      <td>F</td>\n",
       "      <td>25 - 30</td>\n",
       "      <td>3.5</td>\n",
       "      <td>NaN</td>\n",
       "      <td>NaN</td>\n",
       "      <td>NaN</td>\n",
       "      <td>NaN</td>\n",
       "      <td>Business Employee</td>\n",
       "      <td>NaN</td>\n",
       "      <td>NaN</td>\n",
       "      <td>False</td>\n",
       "    </tr>\n",
       "    <tr>\n",
       "      <th>115070</th>\n",
       "      <td>115071</td>\n",
       "      <td>Residence</td>\n",
       "      <td>NaN</td>\n",
       "      <td>Near_Previous_Home</td>\n",
       "      <td>Location</td>\n",
       "      <td>Outer</td>\n",
       "      <td>B</td>\n",
       "      <td>Standard Units</td>\n",
       "      <td>Outer</td>\n",
       "      <td>M</td>\n",
       "      <td>31 - 35</td>\n",
       "      <td>10.3</td>\n",
       "      <td>426978.0</td>\n",
       "      <td>117153.0</td>\n",
       "      <td>Single</td>\n",
       "      <td>NaN</td>\n",
       "      <td>Civil Servant</td>\n",
       "      <td>NaN</td>\n",
       "      <td>NaN</td>\n",
       "      <td>False</td>\n",
       "    </tr>\n",
       "    <tr>\n",
       "      <th>115317</th>\n",
       "      <td>115318</td>\n",
       "      <td>NaN</td>\n",
       "      <td>NaN</td>\n",
       "      <td>NaN</td>\n",
       "      <td>Location</td>\n",
       "      <td>Outer</td>\n",
       "      <td>B</td>\n",
       "      <td>Standard Units</td>\n",
       "      <td>NaN</td>\n",
       "      <td>F</td>\n",
       "      <td>NaN</td>\n",
       "      <td>13.5</td>\n",
       "      <td>NaN</td>\n",
       "      <td>NaN</td>\n",
       "      <td>NaN</td>\n",
       "      <td>NaN</td>\n",
       "      <td>NaN</td>\n",
       "      <td>NaN</td>\n",
       "      <td>NaN</td>\n",
       "      <td>False</td>\n",
       "    </tr>\n",
       "    <tr>\n",
       "      <th>114640</th>\n",
       "      <td>114641</td>\n",
       "      <td>Residence</td>\n",
       "      <td>TV</td>\n",
       "      <td>Near_work_place</td>\n",
       "      <td>Location</td>\n",
       "      <td>Major</td>\n",
       "      <td>C</td>\n",
       "      <td>Standard Units</td>\n",
       "      <td>NaN</td>\n",
       "      <td>M</td>\n",
       "      <td>46 - 50</td>\n",
       "      <td>4.5</td>\n",
       "      <td>170107.0</td>\n",
       "      <td>39965.0</td>\n",
       "      <td>Married with Children</td>\n",
       "      <td>India</td>\n",
       "      <td>Civil Servant</td>\n",
       "      <td>NaN</td>\n",
       "      <td>NaN</td>\n",
       "      <td>False</td>\n",
       "    </tr>\n",
       "  </tbody>\n",
       "</table>\n",
       "</div>"
      ],
      "text/plain": [
       "        VisitorID Question_Property_Buy_Objective Question_Channel  \\\n",
       "76707       76708                             NaN        Billboard   \n",
       "71657       71658                             NaN        Billboard   \n",
       "115070     115071                       Residence              NaN   \n",
       "115317     115318                             NaN              NaN   \n",
       "114640     114641                       Residence               TV   \n",
       "\n",
       "       Question_Factors_Considered Question_Reason_to_visit_property_fair  \\\n",
       "76707                          NaN                                    NaN   \n",
       "71657              Near_work_place                               Location   \n",
       "115070          Near_Previous_Home                               Location   \n",
       "115317                         NaN                               Location   \n",
       "114640             Near_work_place                               Location   \n",
       "\n",
       "       Proj_Group Proj_Segment       Proj_Type Visitor_Group Visitor_Gender  \\\n",
       "76707       Major            C   Premium Units           NaN              M   \n",
       "71657       Urban            B   Premium Units           NaN              F   \n",
       "115070      Outer            B  Standard Units         Outer              M   \n",
       "115317      Outer            B  Standard Units           NaN              F   \n",
       "114640      Major            C  Standard Units           NaN              M   \n",
       "\n",
       "       Question_Age  Question_Budget  Question_HHIncome  \\\n",
       "76707           NaN              NaN                NaN   \n",
       "71657       25 - 30              3.5                NaN   \n",
       "115070      31 - 35             10.3           426978.0   \n",
       "115317          NaN             13.5                NaN   \n",
       "114640      46 - 50              4.5           170107.0   \n",
       "\n",
       "        Question_InstallmentMonthly Question_MarriageStatus  \\\n",
       "76707                           NaN                     NaN   \n",
       "71657                           NaN                     NaN   \n",
       "115070                     117153.0                  Single   \n",
       "115317                          NaN                     NaN   \n",
       "114640                      39965.0   Married with Children   \n",
       "\n",
       "       Question_Nationality Question_Occupation  Question_P_Income  \\\n",
       "76707                   NaN                 NaN                NaN   \n",
       "71657                   NaN   Business Employee                NaN   \n",
       "115070                  NaN       Civil Servant                NaN   \n",
       "115317                  NaN                 NaN                NaN   \n",
       "114640                India       Civil Servant                NaN   \n",
       "\n",
       "        Question_TimeToMoveIn  Target_Variable_Convert  \n",
       "76707                     NaN                    False  \n",
       "71657                     NaN                    False  \n",
       "115070                    NaN                    False  \n",
       "115317                    NaN                    False  \n",
       "114640                    NaN                    False  "
      ]
     },
     "execution_count": 16,
     "metadata": {},
     "output_type": "execute_result"
    }
   ],
   "source": [
    "train.sample(5)"
   ]
  },
  {
   "cell_type": "markdown",
   "id": "5eec31c9",
   "metadata": {},
   "source": [
    "This code is used to extract a random sample of 5 rows from a Pandas DataFrame named \"train\". The sample() function is used to randomly select a specified number of rows from a DataFrame. In this case, sample(5) is used to select 5 random rows from the \"train\" DataFrame.\n",
    "\n",
    "This can be useful if you want to quickly inspect a random subset of the data in the \"train\" DataFrame to get a feel for the data and check for any issues or patterns."
   ]
  },
  {
   "cell_type": "code",
   "execution_count": 17,
   "id": "d9fee51d",
   "metadata": {},
   "outputs": [
    {
     "data": {
      "text/html": [
       "<div>\n",
       "<style scoped>\n",
       "    .dataframe tbody tr th:only-of-type {\n",
       "        vertical-align: middle;\n",
       "    }\n",
       "\n",
       "    .dataframe tbody tr th {\n",
       "        vertical-align: top;\n",
       "    }\n",
       "\n",
       "    .dataframe thead th {\n",
       "        text-align: right;\n",
       "    }\n",
       "</style>\n",
       "<table border=\"1\" class=\"dataframe\">\n",
       "  <thead>\n",
       "    <tr style=\"text-align: right;\">\n",
       "      <th></th>\n",
       "      <th>Data type</th>\n",
       "    </tr>\n",
       "  </thead>\n",
       "  <tbody>\n",
       "    <tr>\n",
       "      <th>VisitorID</th>\n",
       "      <td>int64</td>\n",
       "    </tr>\n",
       "    <tr>\n",
       "      <th>Question_Property_Buy_Objective</th>\n",
       "      <td>object</td>\n",
       "    </tr>\n",
       "    <tr>\n",
       "      <th>Question_Channel</th>\n",
       "      <td>object</td>\n",
       "    </tr>\n",
       "    <tr>\n",
       "      <th>Question_Factors_Considered</th>\n",
       "      <td>object</td>\n",
       "    </tr>\n",
       "    <tr>\n",
       "      <th>Question_Reason_to_visit_property_fair</th>\n",
       "      <td>object</td>\n",
       "    </tr>\n",
       "    <tr>\n",
       "      <th>Proj_Group</th>\n",
       "      <td>object</td>\n",
       "    </tr>\n",
       "    <tr>\n",
       "      <th>Proj_Segment</th>\n",
       "      <td>object</td>\n",
       "    </tr>\n",
       "    <tr>\n",
       "      <th>Proj_Type</th>\n",
       "      <td>object</td>\n",
       "    </tr>\n",
       "    <tr>\n",
       "      <th>Visitor_Group</th>\n",
       "      <td>object</td>\n",
       "    </tr>\n",
       "    <tr>\n",
       "      <th>Visitor_Gender</th>\n",
       "      <td>object</td>\n",
       "    </tr>\n",
       "    <tr>\n",
       "      <th>Question_Age</th>\n",
       "      <td>object</td>\n",
       "    </tr>\n",
       "    <tr>\n",
       "      <th>Question_Budget</th>\n",
       "      <td>float64</td>\n",
       "    </tr>\n",
       "    <tr>\n",
       "      <th>Question_HHIncome</th>\n",
       "      <td>float64</td>\n",
       "    </tr>\n",
       "    <tr>\n",
       "      <th>Question_InstallmentMonthly</th>\n",
       "      <td>float64</td>\n",
       "    </tr>\n",
       "    <tr>\n",
       "      <th>Question_MarriageStatus</th>\n",
       "      <td>object</td>\n",
       "    </tr>\n",
       "    <tr>\n",
       "      <th>Question_Nationality</th>\n",
       "      <td>object</td>\n",
       "    </tr>\n",
       "    <tr>\n",
       "      <th>Question_Occupation</th>\n",
       "      <td>object</td>\n",
       "    </tr>\n",
       "    <tr>\n",
       "      <th>Question_P_Income</th>\n",
       "      <td>float64</td>\n",
       "    </tr>\n",
       "    <tr>\n",
       "      <th>Question_TimeToMoveIn</th>\n",
       "      <td>float64</td>\n",
       "    </tr>\n",
       "    <tr>\n",
       "      <th>Target_Variable_Convert</th>\n",
       "      <td>bool</td>\n",
       "    </tr>\n",
       "  </tbody>\n",
       "</table>\n",
       "</div>"
      ],
      "text/plain": [
       "                                       Data type\n",
       "VisitorID                                  int64\n",
       "Question_Property_Buy_Objective           object\n",
       "Question_Channel                          object\n",
       "Question_Factors_Considered               object\n",
       "Question_Reason_to_visit_property_fair    object\n",
       "Proj_Group                                object\n",
       "Proj_Segment                              object\n",
       "Proj_Type                                 object\n",
       "Visitor_Group                             object\n",
       "Visitor_Gender                            object\n",
       "Question_Age                              object\n",
       "Question_Budget                          float64\n",
       "Question_HHIncome                        float64\n",
       "Question_InstallmentMonthly              float64\n",
       "Question_MarriageStatus                   object\n",
       "Question_Nationality                      object\n",
       "Question_Occupation                       object\n",
       "Question_P_Income                        float64\n",
       "Question_TimeToMoveIn                    float64\n",
       "Target_Variable_Convert                     bool"
      ]
     },
     "execution_count": 17,
     "metadata": {},
     "output_type": "execute_result"
    }
   ],
   "source": [
    "pd.DataFrame({\"Data type\": train.dtypes})"
   ]
  },
  {
   "cell_type": "markdown",
   "id": "8617cad6",
   "metadata": {},
   "source": [
    "After identifying the missing values in the data, the data types of each column are checked using the bellow code. \n",
    "\n",
    "The result shows that there are **6 numerical variables**, **13 categorical variables**, and the target variable represented as a **boolean variable**."
   ]
  },
  {
   "cell_type": "markdown",
   "id": "28d69ada",
   "metadata": {},
   "source": [
    "### 2. Numeric columns & distribution histograms <a class=\"anchor\" id=\"4_2\"></a>"
   ]
  },
  {
   "cell_type": "markdown",
   "id": "79f7804b",
   "metadata": {},
   "source": [
    "we observe that there are : \n",
    "- 6 numerical variables \n",
    "    - VisitorID : visitor identifier no need to make a distribution histogram for this column \n",
    "    - Question_Budget\n",
    "    - Question_HHIncome\t\n",
    "    - Question_InstallmentMonthly\t\n",
    "    - Question_P_Income\t\n",
    "    - Question_TimeToMoveIn\t\n",
    "    "
   ]
  },
  {
   "cell_type": "code",
   "execution_count": 18,
   "id": "42e5a955",
   "metadata": {},
   "outputs": [
    {
     "data": {
      "image/png": "[encoded data removed]",
      "text/plain": [
       "<Figure size 864x864 with 6 Axes>"
      ]
     },
     "metadata": {
      "needs_background": "light"
     },
     "output_type": "display_data"
    }
   ],
   "source": [
    "numeric_features = [\n",
    "    \"Question_Budget\",\n",
    "    \"Question_HHIncome\",\n",
    "    \"Question_InstallmentMonthly\",\n",
    "    \"Question_P_Income\",\n",
    "    \"Question_TimeToMoveIn\",\n",
    "]\n",
    "train[numeric_features].hist(figsize=(12, 12))"
   ]
  },
  {
   "cell_type": "markdown",
   "id": "a51c0d2e",
   "metadata": {},
   "source": [
    "**Density plots** are useful for visualizing the distribution of values within each column. By examining the shape of the density plots, we can gain insights into the distribution of values, including the range of values, the number of unique values, and the shape of the distribution. This information can help we decide which statistical techniques to use for analyzing or processing the data."
   ]
  },
  {
   "cell_type": "code",
   "execution_count": 19,
   "id": "a599bc54",
   "metadata": {},
   "outputs": [
    {
     "data": {
      "image/png": "[encoded data removed]",
      "text/plain": [
       "<Figure size 1080x1080 with 8 Axes>"
      ]
     },
     "metadata": {
      "needs_background": "light"
     },
     "output_type": "display_data"
    }
   ],
   "source": [
    "train[numeric_features].plot(\n",
    "    kind=\"density\", subplots=True, layout=(4, 2), sharex=False, figsize=(15, 15)\n",
    ")"
   ]
  },
  {
   "cell_type": "markdown",
   "id": "524ef011",
   "metadata": {},
   "source": [
    "Visualizing the **density** of numerical columns in a DataFrame is important for several reasons:\n",
    "\n",
    "1. Understanding the distribution of values: Density plots provide a visual representation of the distribution of values within a column. This information is crucial in understanding the range of values, the number of unique values, and the shape of the distribution.\n",
    "\n",
    "2. Identifying outliers and anomalies: By visualizing the density of the data, it's easier to identify outliers and anomalies in the data. Outliers and anomalies can have a significant impact on statistical analysis, so it's important to identify them as early as possible.\n",
    "\n",
    "3. Deciding on data pre-processing techniques: The density plots can help you decide which data pre-processing techniques to use. For example, if the data is **heavily skewed**, you might consider **normalizing** the data.\n",
    "\n",
    "4. Improving accuracy of models: Visualizing the density of the data can help improve the accuracy of predictive models. For example, if a column is **heavily skewed**, it might be a good idea to **log-transform** the data before building the model.\n",
    "\n",
    "Overall, visualizing the density of numerical columns provides valuable information about the data, which can be used to make informed decisions during the data analysis and modeling process."
   ]
  },
  {
   "cell_type": "markdown",
   "id": "a1a30db4",
   "metadata": {},
   "source": [
    "### 3. Categorical columns &  Frequency distribution histogram <a class=\"anchor\" id=\"4_3\"></a>"
   ]
  },
  {
   "cell_type": "markdown",
   "id": "5cc42217",
   "metadata": {},
   "source": [
    "This code generates a separate **frequency distribution histogram** for each **categorical column** in the dataframe \"train\". The histograms display the frequency of each category in each column, allowing you to see the distribution of the categorical data and to identify any patterns or trends."
   ]
  },
  {
   "cell_type": "code",
   "execution_count": 20,
   "id": "2f47210e",
   "metadata": {
    "scrolled": false
   },
   "outputs": [
    {
     "data": {
      "image/png": "[encoded data removed]",
      "text/plain": [
       "<Figure size 360x360 with 1 Axes>"
      ]
     },
     "metadata": {
      "needs_background": "light"
     },
     "output_type": "display_data"
    },
    {
     "data": {
      "image/png": "[encoded data removed]",
      "text/plain": [
       "<Figure size 360x360 with 1 Axes>"
      ]
     },
     "metadata": {
      "needs_background": "light"
     },
     "output_type": "display_data"
    },
    {
     "data": {
      "image/png": "[encoded data removed]",
      "text/plain": [
       "<Figure size 360x360 with 1 Axes>"
      ]
     },
     "metadata": {
      "needs_background": "light"
     },
     "output_type": "display_data"
    },
    {
     "data": {
      "image/png": "[encoded data removed]",
      "text/plain": [
       "<Figure size 360x360 with 1 Axes>"
      ]
     },
     "metadata": {
      "needs_background": "light"
     },
     "output_type": "display_data"
    },
    {
     "data": {
      "image/png": "[encoded data removed]",
      "text/plain": [
       "<Figure size 360x360 with 1 Axes>"
      ]
     },
     "metadata": {
      "needs_background": "light"
     },
     "output_type": "display_data"
    },
    {
     "data": {
      "image/png": "[encoded data removed]",
      "text/plain": [
       "<Figure size 360x360 with 1 Axes>"
      ]
     },
     "metadata": {
      "needs_background": "light"
     },
     "output_type": "display_data"
    },
    {
     "data": {
      "image/png": "[encoded data removed]",
      "text/plain": [
       "<Figure size 360x360 with 1 Axes>"
      ]
     },
     "metadata": {
      "needs_background": "light"
     },
     "output_type": "display_data"
    },
    {
     "data": {
      "image/png": "[encoded data removed]",
      "text/plain": [
       "<Figure size 360x360 with 1 Axes>"
      ]
     },
     "metadata": {
      "needs_background": "light"
     },
     "output_type": "display_data"
    },
    {
     "data": {
      "image/png": "[encoded data removed]",
      "text/plain": [
       "<Figure size 360x360 with 1 Axes>"
      ]
     },
     "metadata": {
      "needs_background": "light"
     },
     "output_type": "display_data"
    },
    {
     "data": {
      "image/png": "[encoded data removed]",
      "text/plain": [
       "<Figure size 360x360 with 1 Axes>"
      ]
     },
     "metadata": {
      "needs_background": "light"
     },
     "output_type": "display_data"
    },
    {
     "data": {
      "image/png": "[encoded data removed]",
      "text/plain": [
       "<Figure size 360x360 with 1 Axes>"
      ]
     },
     "metadata": {
      "needs_background": "light"
     },
     "output_type": "display_data"
    },
    {
     "data": {
      "image/png": "[encoded data removed]",
      "text/plain": [
       "<Figure size 360x360 with 1 Axes>"
      ]
     },
     "metadata": {
      "needs_background": "light"
     },
     "output_type": "display_data"
    },
    {
     "data": {
      "image/png": "[encoded data removed]",
      "text/plain": [
       "<Figure size 360x360 with 1 Axes>"
      ]
     },
     "metadata": {
      "needs_background": "light"
     },
     "output_type": "display_data"
    }
   ],
   "source": [
    "# Specify the categorical columns\n",
    "Categorical_features = list(train.select_dtypes([\"object\"]).columns)\n",
    "\n",
    "# Plot a histogram for each categorical column\n",
    "for col in Categorical_features:\n",
    "    sns.catplot(data=train, x=col, kind=\"count\")\n",
    "    plt.title(col)\n",
    "    plt.xlabel(\"Categories\")\n",
    "    plt.ylabel(\"Frequency\")\n",
    "    plt.xticks(rotation=90)\n",
    "    plt.show()"
   ]
  },
  {
   "cell_type": "markdown",
   "id": "0b5a76cd",
   "metadata": {},
   "source": [
    "#### Target variable"
   ]
  },
  {
   "cell_type": "code",
   "execution_count": 21,
   "id": "b2e7402d",
   "metadata": {},
   "outputs": [
    {
     "data": {
      "text/plain": [
       "<seaborn.axisgrid.FacetGrid at 0x15c5c710c70>"
      ]
     },
     "execution_count": 21,
     "metadata": {},
     "output_type": "execute_result"
    },
    {
     "data": {
      "image/png": "[encoded data removed]",
      "text/plain": [
       "<Figure size 360x360 with 1 Axes>"
      ]
     },
     "metadata": {
      "needs_background": "light"
     },
     "output_type": "display_data"
    }
   ],
   "source": [
    "sns.catplot(data=train, x=\"Target_Variable_Convert\", kind=\"count\")"
   ]
  },
  {
   "cell_type": "markdown",
   "id": "a0383173",
   "metadata": {},
   "source": [
    "Frequency distribution histograms for categorical columns are important for several reasons:\n",
    "\n",
    "1. Understanding the distribution of data: Frequency distribution histograms help you understand how the data is distributed among different categories in a column. This is especially useful when you have a large number of categories in a column and want to see the distribution of the data visually.\n",
    "\n",
    "2. Identifying **outliers**: By visualizing the frequency distribution, you can identify any categories that have much **higher** or **lower** frequency than the others. These outliers can indicate potential data quality issues or might need further investigation.\n",
    "\n",
    "3. Detecting **imbalances**: If the target variable is binary (i.e., True/False), it is important to check the distribution of the target variable within each category. If there is a significant **imbalance in the target variable** for one or more categories, it might affect the performance of predictive models.\n",
    "\n",
    "4. Preparing for **feature engineering**: Understanding the distribution of the categorical data can help you prepare for feature engineering. For example, you might decide to combine categories with low frequency into a single category, or create new features based on the frequency of categories.\n",
    "\n",
    "Overall, visualizing frequency distribution histograms for categorical columns can give we valuable insights into your data and help we make informed decisions about the next steps in your data analysis."
   ]
  },
  {
   "cell_type": "markdown",
   "id": "25e7ffe0",
   "metadata": {},
   "source": [
    "<h1><center><font color='blue'>Part 3 : Data cleaning </font></center></h1> <a class=\"anchor\" id=\"4\"></a>"
   ]
  },
  {
   "cell_type": "markdown",
   "id": "b46feaf5",
   "metadata": {},
   "source": [
    "**Data cleaning** is a crucial step in the data preprocessing stage. The steps involved in data cleaning are as follows:\n",
    "\n",
    "\n",
    "1. Handle **duplicates**: Remove duplicate rows or columns from the data.\n",
    "\n",
    "\n",
    "2. a.  Handle **missing values**: Identify and either remove or fill in missing values in the data.\n",
    "\n",
    "   b. Handle **irrelevant data**: Remove data columns that are not relevant to the analysis or modeling process.\n",
    "\n",
    "\n",
    "3. Handle **Numerical variables**: Transforming non-normal data into a normal-like distribution .\n",
    "\n",
    "\n",
    "4. **Formatting data**: Ensure that data is in the proper format (e.g., convert categorical data into numerical data) for analysis and modeling.\n",
    "\n"
   ]
  },
  {
   "cell_type": "markdown",
   "id": "a53a8b49",
   "metadata": {},
   "source": [
    "#### 1. Handle **duplicates**: <a class=\"anchor\" id=\"5_1\"></a>\n",
    "\n",
    "We want to make sure all the data we have is unique and we don't have any duplicated rows. For that, we're going to use the .duplicated()\n",
    "function in pandas.\n",
    "\n",
    "This will tell us if there are any duplicated rows."
   ]
  },
  {
   "cell_type": "code",
   "execution_count": 22,
   "id": "d41805c5",
   "metadata": {},
   "outputs": [
    {
     "data": {
      "text/html": [
       "<div>\n",
       "<style scoped>\n",
       "    .dataframe tbody tr th:only-of-type {\n",
       "        vertical-align: middle;\n",
       "    }\n",
       "\n",
       "    .dataframe tbody tr th {\n",
       "        vertical-align: top;\n",
       "    }\n",
       "\n",
       "    .dataframe thead th {\n",
       "        text-align: right;\n",
       "    }\n",
       "</style>\n",
       "<table border=\"1\" class=\"dataframe\">\n",
       "  <thead>\n",
       "    <tr style=\"text-align: right;\">\n",
       "      <th></th>\n",
       "      <th>VisitorID</th>\n",
       "      <th>Question_Property_Buy_Objective</th>\n",
       "      <th>Question_Channel</th>\n",
       "      <th>Question_Factors_Considered</th>\n",
       "      <th>Question_Reason_to_visit_property_fair</th>\n",
       "      <th>Proj_Group</th>\n",
       "      <th>Proj_Segment</th>\n",
       "      <th>Proj_Type</th>\n",
       "      <th>Visitor_Group</th>\n",
       "      <th>Visitor_Gender</th>\n",
       "      <th>Question_Age</th>\n",
       "      <th>Question_Budget</th>\n",
       "      <th>Question_HHIncome</th>\n",
       "      <th>Question_InstallmentMonthly</th>\n",
       "      <th>Question_MarriageStatus</th>\n",
       "      <th>Question_Nationality</th>\n",
       "      <th>Question_Occupation</th>\n",
       "      <th>Question_P_Income</th>\n",
       "      <th>Question_TimeToMoveIn</th>\n",
       "      <th>Target_Variable_Convert</th>\n",
       "    </tr>\n",
       "  </thead>\n",
       "  <tbody>\n",
       "  </tbody>\n",
       "</table>\n",
       "</div>"
      ],
      "text/plain": [
       "Empty DataFrame\n",
       "Columns: [VisitorID, Question_Property_Buy_Objective, Question_Channel, Question_Factors_Considered, Question_Reason_to_visit_property_fair, Proj_Group, Proj_Segment, Proj_Type, Visitor_Group, Visitor_Gender, Question_Age, Question_Budget, Question_HHIncome, Question_InstallmentMonthly, Question_MarriageStatus, Question_Nationality, Question_Occupation, Question_P_Income, Question_TimeToMoveIn, Target_Variable_Convert]\n",
       "Index: []"
      ]
     },
     "execution_count": 22,
     "metadata": {},
     "output_type": "execute_result"
    }
   ],
   "source": [
    "train[train.duplicated()]"
   ]
  },
  {
   "cell_type": "markdown",
   "id": "d971ec92",
   "metadata": {},
   "source": [
    "#### 2. Handle **missing values**: <a class=\"anchor\" id=\"5_2\"></a>"
   ]
  },
  {
   "cell_type": "markdown",
   "id": "3494530c",
   "metadata": {},
   "source": [
    "This code plots the missing data in a bar chart. The code first calculates the percentage of missing values in each variable (column) of the train dataframe using train.isnull().sum()/len(train.index)*100. The result is then plotted using plot(kind=\"bar\", figsize=(18,10)). The x-axis of the chart shows the variables (columns), and the y-axis shows the percentage of missing values. The chart is labeled with the x-axis label \"Variables\" and y-axis label \"Missing values (%)\". Finally, the chart is displayed using plt.show()."
   ]
  },
  {
   "cell_type": "code",
   "execution_count": 23,
   "id": "4fdf757e",
   "metadata": {},
   "outputs": [
    {
     "data": {
      "image/png": "[encoded data removed]",
      "text/plain": [
       "<Figure size 1296x720 with 1 Axes>"
      ]
     },
     "metadata": {
      "needs_background": "light"
     },
     "output_type": "display_data"
    }
   ],
   "source": [
    "# Plot missing data\n",
    "(train.isnull().sum() / len(train.index) * 100).plot(kind=\"bar\", figsize=(18, 10))\n",
    "# Set axis labels\n",
    "plt.xlabel(\"Variables\")\n",
    "plt.ylabel(\"Missing values (%)\")\n",
    "plt.show()"
   ]
  },
  {
   "cell_type": "markdown",
   "id": "0c7f9ecd",
   "metadata": {},
   "source": [
    "For simplicity, the following actions will be taken:\n",
    "\n",
    "1. Remove variables that have more than 60% of their values missing.\n",
    "2. Remove the \"VisitorID\" column as it is a visitor identifier and is not necessary for the modeling process."
   ]
  },
  {
   "cell_type": "markdown",
   "id": "a1df382e",
   "metadata": {},
   "source": [
    "**But what if having 60 % of Nan is the insight?**\n",
    "\n",
    "To improve the model's performance, we conducted several tests on this column, but the results were not satisfactory. Therefore, we made the decision to remove this column       from the dataset before the modeling stage.\n"
   ]
  },
  {
   "cell_type": "code",
   "execution_count": 24,
   "id": "4d876d1f",
   "metadata": {},
   "outputs": [],
   "source": [
    "train.drop(\n",
    "    columns=[\n",
    "        \"VisitorID\",\n",
    "        \"Question_Property_Buy_Objective\",\n",
    "        \"Question_Factors_Considered\",\n",
    "        \"Question_InstallmentMonthly\",\n",
    "        \"Question_Nationality\",\n",
    "        \"Question_P_Income\",\n",
    "        \"Question_TimeToMoveIn\",\n",
    "    ],\n",
    "    inplace=True,\n",
    ")"
   ]
  },
  {
   "cell_type": "markdown",
   "id": "50695ee9",
   "metadata": {},
   "source": [
    "Notice how the columns that we removed do not appear in the dataframe anymore.\n",
    "\n",
    "Note: Showing the columns as a separate dataframe to facilitate visualization\n"
   ]
  },
  {
   "cell_type": "code",
   "execution_count": 25,
   "id": "6d4703ce",
   "metadata": {},
   "outputs": [
    {
     "data": {
      "text/html": [
       "<div>\n",
       "<style scoped>\n",
       "    .dataframe tbody tr th:only-of-type {\n",
       "        vertical-align: middle;\n",
       "    }\n",
       "\n",
       "    .dataframe tbody tr th {\n",
       "        vertical-align: top;\n",
       "    }\n",
       "\n",
       "    .dataframe thead th {\n",
       "        text-align: right;\n",
       "    }\n",
       "</style>\n",
       "<table border=\"1\" class=\"dataframe\">\n",
       "  <thead>\n",
       "    <tr style=\"text-align: right;\">\n",
       "      <th></th>\n",
       "      <th>Dataframe columns</th>\n",
       "    </tr>\n",
       "  </thead>\n",
       "  <tbody>\n",
       "    <tr>\n",
       "      <th>0</th>\n",
       "      <td>Question_Channel</td>\n",
       "    </tr>\n",
       "    <tr>\n",
       "      <th>1</th>\n",
       "      <td>Question_Reason_to_visit_property_fair</td>\n",
       "    </tr>\n",
       "    <tr>\n",
       "      <th>2</th>\n",
       "      <td>Proj_Group</td>\n",
       "    </tr>\n",
       "    <tr>\n",
       "      <th>3</th>\n",
       "      <td>Proj_Segment</td>\n",
       "    </tr>\n",
       "    <tr>\n",
       "      <th>4</th>\n",
       "      <td>Proj_Type</td>\n",
       "    </tr>\n",
       "    <tr>\n",
       "      <th>5</th>\n",
       "      <td>Visitor_Group</td>\n",
       "    </tr>\n",
       "    <tr>\n",
       "      <th>6</th>\n",
       "      <td>Visitor_Gender</td>\n",
       "    </tr>\n",
       "    <tr>\n",
       "      <th>7</th>\n",
       "      <td>Question_Age</td>\n",
       "    </tr>\n",
       "    <tr>\n",
       "      <th>8</th>\n",
       "      <td>Question_Budget</td>\n",
       "    </tr>\n",
       "    <tr>\n",
       "      <th>9</th>\n",
       "      <td>Question_HHIncome</td>\n",
       "    </tr>\n",
       "    <tr>\n",
       "      <th>10</th>\n",
       "      <td>Question_MarriageStatus</td>\n",
       "    </tr>\n",
       "    <tr>\n",
       "      <th>11</th>\n",
       "      <td>Question_Occupation</td>\n",
       "    </tr>\n",
       "    <tr>\n",
       "      <th>12</th>\n",
       "      <td>Target_Variable_Convert</td>\n",
       "    </tr>\n",
       "  </tbody>\n",
       "</table>\n",
       "</div>"
      ],
      "text/plain": [
       "                         Dataframe columns\n",
       "0                         Question_Channel\n",
       "1   Question_Reason_to_visit_property_fair\n",
       "2                               Proj_Group\n",
       "3                             Proj_Segment\n",
       "4                                Proj_Type\n",
       "5                            Visitor_Group\n",
       "6                           Visitor_Gender\n",
       "7                             Question_Age\n",
       "8                          Question_Budget\n",
       "9                        Question_HHIncome\n",
       "10                 Question_MarriageStatus\n",
       "11                     Question_Occupation\n",
       "12                 Target_Variable_Convert"
      ]
     },
     "execution_count": 25,
     "metadata": {},
     "output_type": "execute_result"
    }
   ],
   "source": [
    "pd.DataFrame({\"Dataframe columns\": train.columns})"
   ]
  },
  {
   "cell_type": "markdown",
   "id": "9ca7378a",
   "metadata": {},
   "source": [
    "**Dealing with few missing values features :** "
   ]
  },
  {
   "cell_type": "markdown",
   "id": "8c94ade8",
   "metadata": {},
   "source": [
    "For numerical columns, we will impute their missing observations with the mean value."
   ]
  },
  {
   "cell_type": "code",
   "execution_count": 26,
   "id": "96e56772",
   "metadata": {},
   "outputs": [],
   "source": [
    "# Using SimpleImpuster:\n",
    "miss_mean_imputer = SimpleImputer(missing_values=np.nan, strategy=\"mean\")\n",
    "\n",
    "list_col_imputed = [\"Question_Budget\", \"Question_HHIncome\"]\n",
    "\n",
    "train[list_col_imputed] = miss_mean_imputer.fit_transform(train[list_col_imputed])"
   ]
  },
  {
   "cell_type": "markdown",
   "id": "a66a5dc9",
   "metadata": {},
   "source": [
    "For the categorical feature, we use the most frequent variable."
   ]
  },
  {
   "cell_type": "code",
   "execution_count": 27,
   "id": "ef450526",
   "metadata": {},
   "outputs": [],
   "source": [
    "Categorical_features = list(train.select_dtypes([\"object\"]).columns)\n",
    "\n",
    "miss_frquent_imputer = SimpleImputer(missing_values=np.nan, strategy=\"most_frequent\")\n",
    "train[Categorical_features] = miss_frquent_imputer.fit_transform(\n",
    "    train[Categorical_features]\n",
    ")"
   ]
  },
  {
   "cell_type": "code",
   "execution_count": 28,
   "id": "b7b7c0d9",
   "metadata": {
    "scrolled": false
   },
   "outputs": [
    {
     "data": {
      "text/html": [
       "<div>\n",
       "<style scoped>\n",
       "    .dataframe tbody tr th:only-of-type {\n",
       "        vertical-align: middle;\n",
       "    }\n",
       "\n",
       "    .dataframe tbody tr th {\n",
       "        vertical-align: top;\n",
       "    }\n",
       "\n",
       "    .dataframe thead th {\n",
       "        text-align: right;\n",
       "    }\n",
       "</style>\n",
       "<table border=\"1\" class=\"dataframe\">\n",
       "  <thead>\n",
       "    <tr style=\"text-align: right;\">\n",
       "      <th></th>\n",
       "      <th>Missing values (%)</th>\n",
       "    </tr>\n",
       "  </thead>\n",
       "  <tbody>\n",
       "    <tr>\n",
       "      <th>Question_Channel</th>\n",
       "      <td>0.0</td>\n",
       "    </tr>\n",
       "    <tr>\n",
       "      <th>Question_Reason_to_visit_property_fair</th>\n",
       "      <td>0.0</td>\n",
       "    </tr>\n",
       "    <tr>\n",
       "      <th>Proj_Group</th>\n",
       "      <td>0.0</td>\n",
       "    </tr>\n",
       "    <tr>\n",
       "      <th>Proj_Segment</th>\n",
       "      <td>0.0</td>\n",
       "    </tr>\n",
       "    <tr>\n",
       "      <th>Proj_Type</th>\n",
       "      <td>0.0</td>\n",
       "    </tr>\n",
       "    <tr>\n",
       "      <th>Visitor_Group</th>\n",
       "      <td>0.0</td>\n",
       "    </tr>\n",
       "    <tr>\n",
       "      <th>Visitor_Gender</th>\n",
       "      <td>0.0</td>\n",
       "    </tr>\n",
       "    <tr>\n",
       "      <th>Question_Age</th>\n",
       "      <td>0.0</td>\n",
       "    </tr>\n",
       "    <tr>\n",
       "      <th>Question_Budget</th>\n",
       "      <td>0.0</td>\n",
       "    </tr>\n",
       "    <tr>\n",
       "      <th>Question_HHIncome</th>\n",
       "      <td>0.0</td>\n",
       "    </tr>\n",
       "    <tr>\n",
       "      <th>Question_MarriageStatus</th>\n",
       "      <td>0.0</td>\n",
       "    </tr>\n",
       "    <tr>\n",
       "      <th>Question_Occupation</th>\n",
       "      <td>0.0</td>\n",
       "    </tr>\n",
       "    <tr>\n",
       "      <th>Target_Variable_Convert</th>\n",
       "      <td>0.0</td>\n",
       "    </tr>\n",
       "  </tbody>\n",
       "</table>\n",
       "</div>"
      ],
      "text/plain": [
       "                                        Missing values (%)\n",
       "Question_Channel                                       0.0\n",
       "Question_Reason_to_visit_property_fair                 0.0\n",
       "Proj_Group                                             0.0\n",
       "Proj_Segment                                           0.0\n",
       "Proj_Type                                              0.0\n",
       "Visitor_Group                                          0.0\n",
       "Visitor_Gender                                         0.0\n",
       "Question_Age                                           0.0\n",
       "Question_Budget                                        0.0\n",
       "Question_HHIncome                                      0.0\n",
       "Question_MarriageStatus                                0.0\n",
       "Question_Occupation                                    0.0\n",
       "Target_Variable_Convert                                0.0"
      ]
     },
     "execution_count": 28,
     "metadata": {},
     "output_type": "execute_result"
    }
   ],
   "source": [
    "pd.DataFrame({\"Missing values (%)\": train.isnull().sum() / len(train.index) * 100})"
   ]
  },
  {
   "cell_type": "markdown",
   "id": "a3cc0add",
   "metadata": {},
   "source": [
    "**3. Handle Numerical variables :** <a class=\"anchor\" id=\"5_3\"></a>"
   ]
  },
  {
   "cell_type": "markdown",
   "id": "e607a0b8",
   "metadata": {},
   "source": [
    "The **Box-Cox transformation** is a statistical technique used to transform **non-normal** data into a more **normal-like distribution**. This is useful because many statistical techniques, such as regression analysis and hypothesis testing, assume that the data is normally distributed. Transforming non-normal data into a normal-like distribution can make the results of these techniques more accurate and interpretable.\n",
    "\n",
    "The **Box-Cox transformation** works by transforming a variable x into a new variable y using a power transformation. The specific power transformation used is determined by a parameter λ, which is estimated from the data. If λ is equal to 0, the transformation is a log transformation, while positive values of λ represent power transformations.\n",
    "\n",
    "The importance of the **Box-Cox transformation** lies in its ability to handle a wide range of non-normal distributions. Unlike other transformations, such as log or square root, the Box-Cox transformation can handle both positive and negative data, as well as data that ranges from zero to positive values. This makes it a versatile tool for transforming data that doesn't meet the assumptions of normality.\n",
    "\n",
    "In summary, the **Box-Cox transformation** is an important tool for transforming non-normal data into a normal-like distribution. By doing so, it makes the results of many statistical techniques more accurate and interpretable."
   ]
  },
  {
   "cell_type": "code",
   "execution_count": 29,
   "id": "4ac136d3",
   "metadata": {},
   "outputs": [
    {
     "data": {
      "image/png": "[encoded data removed]",
      "text/plain": [
       "<Figure size 1080x1080 with 8 Axes>"
      ]
     },
     "metadata": {
      "needs_background": "light"
     },
     "output_type": "display_data"
    }
   ],
   "source": [
    "numeric_feature = list(train.select_dtypes([\"float\"]).columns)\n",
    "\n",
    "train[numeric_feature].plot(\n",
    "    kind=\"density\", subplots=True, layout=(4, 2), sharex=False, figsize=(15, 15)\n",
    ")"
   ]
  },
  {
   "cell_type": "code",
   "execution_count": 30,
   "id": "52dd0c58",
   "metadata": {},
   "outputs": [
    {
     "data": {
      "text/plain": [
       "['Question_Budget', 'Question_HHIncome']"
      ]
     },
     "execution_count": 30,
     "metadata": {},
     "output_type": "execute_result"
    }
   ],
   "source": [
    "numeric_feature"
   ]
  },
  {
   "cell_type": "code",
   "execution_count": 31,
   "id": "1ae0abcf",
   "metadata": {},
   "outputs": [],
   "source": [
    "# Apply the Box-Cox transformation to the column\n",
    "col1_boxcox, _ = boxcox(train[\"Question_Budget\"])\n",
    "col2_boxcox, _ = boxcox(train[\"Question_HHIncome\"])\n",
    "# Add the transformed column to the data frame\n",
    "train[\"Question_Budget\"] = col1_boxcox\n",
    "train[\"Question_HHIncome\"] = col2_boxcox"
   ]
  },
  {
   "cell_type": "markdown",
   "id": "fedcc1ac",
   "metadata": {},
   "source": [
    "**Plot of the density of numerical variables afet BOX COX transformation**"
   ]
  },
  {
   "cell_type": "code",
   "execution_count": 32,
   "id": "fb169200",
   "metadata": {},
   "outputs": [
    {
     "data": {
      "image/png": "[encoded data removed]",
      "text/plain": [
       "<Figure size 1080x1080 with 8 Axes>"
      ]
     },
     "metadata": {
      "needs_background": "light"
     },
     "output_type": "display_data"
    }
   ],
   "source": [
    "train[numeric_feature].plot(\n",
    "    kind=\"density\", subplots=True, layout=(4, 2), sharex=False, figsize=(15, 15)\n",
    ")"
   ]
  },
  {
   "cell_type": "markdown",
   "id": "f10dafe0",
   "metadata": {},
   "source": [
    "**4. Formatting data :**  <a class=\"anchor\" id=\"5_4\"></a>"
   ]
  },
  {
   "cell_type": "markdown",
   "id": "a0b83401",
   "metadata": {},
   "source": [
    "#### replace categorical variable "
   ]
  },
  {
   "cell_type": "markdown",
   "id": "788eb363",
   "metadata": {},
   "source": [
    "To replace the boolean variable \"Target_Variable_Convert\" we use the function .astype(int) to transfert to 0, 1 "
   ]
  },
  {
   "cell_type": "code",
   "execution_count": 33,
   "id": "ca84ed4f",
   "metadata": {},
   "outputs": [],
   "source": [
    "train[\"Target_Variable_Convert\"] = train[\"Target_Variable_Convert\"].astype(int)"
   ]
  },
  {
   "cell_type": "markdown",
   "id": "9857b4cc",
   "metadata": {},
   "source": [
    "For the other variables we use **One Hot incoder method**"
   ]
  },
  {
   "cell_type": "markdown",
   "id": "53a2a3dd",
   "metadata": {},
   "source": [
    "#### Encoding categorical and numerical data :"
   ]
  },
  {
   "cell_type": "code",
   "execution_count": 34,
   "id": "7f4d0a45",
   "metadata": {},
   "outputs": [],
   "source": [
    "categorical_columns = [\n",
    "    c for c in train.columns if train[c].dtype.kind not in [\"i\", \"f\"]\n",
    "]"
   ]
  },
  {
   "cell_type": "code",
   "execution_count": 35,
   "id": "468147e8",
   "metadata": {},
   "outputs": [
    {
     "data": {
      "text/html": [
       "<div>\n",
       "<style scoped>\n",
       "    .dataframe tbody tr th:only-of-type {\n",
       "        vertical-align: middle;\n",
       "    }\n",
       "\n",
       "    .dataframe tbody tr th {\n",
       "        vertical-align: top;\n",
       "    }\n",
       "\n",
       "    .dataframe thead th {\n",
       "        text-align: right;\n",
       "    }\n",
       "</style>\n",
       "<table border=\"1\" class=\"dataframe\">\n",
       "  <thead>\n",
       "    <tr style=\"text-align: right;\">\n",
       "      <th></th>\n",
       "      <th>Question_Budget</th>\n",
       "      <th>Question_HHIncome</th>\n",
       "      <th>Target_Variable_Convert</th>\n",
       "      <th>Question_Channel_Billboard</th>\n",
       "      <th>Question_Channel_Event</th>\n",
       "      <th>Question_Channel_Other</th>\n",
       "      <th>Question_Channel_Radio</th>\n",
       "      <th>Question_Channel_Referral</th>\n",
       "      <th>Question_Channel_TV</th>\n",
       "      <th>Question_Reason_to_visit_property_fair_Company</th>\n",
       "      <th>...</th>\n",
       "      <th>Question_Age_46 - 50</th>\n",
       "      <th>Question_Age_51 +</th>\n",
       "      <th>Question_Age_&lt; 25</th>\n",
       "      <th>Question_MarriageStatus_Married</th>\n",
       "      <th>Question_MarriageStatus_Married with Children</th>\n",
       "      <th>Question_MarriageStatus_Single</th>\n",
       "      <th>Question_Occupation_Business Employee</th>\n",
       "      <th>Question_Occupation_Business Owner</th>\n",
       "      <th>Question_Occupation_Civil Servant</th>\n",
       "      <th>Question_Occupation_Other(Please specify)</th>\n",
       "    </tr>\n",
       "  </thead>\n",
       "  <tbody>\n",
       "    <tr>\n",
       "      <th>0</th>\n",
       "      <td>2.006966</td>\n",
       "      <td>122.091327</td>\n",
       "      <td>0</td>\n",
       "      <td>1</td>\n",
       "      <td>0</td>\n",
       "      <td>0</td>\n",
       "      <td>0</td>\n",
       "      <td>0</td>\n",
       "      <td>0</td>\n",
       "      <td>1</td>\n",
       "      <td>...</td>\n",
       "      <td>0</td>\n",
       "      <td>1</td>\n",
       "      <td>0</td>\n",
       "      <td>0</td>\n",
       "      <td>0</td>\n",
       "      <td>1</td>\n",
       "      <td>0</td>\n",
       "      <td>1</td>\n",
       "      <td>0</td>\n",
       "      <td>0</td>\n",
       "    </tr>\n",
       "    <tr>\n",
       "      <th>1</th>\n",
       "      <td>2.125579</td>\n",
       "      <td>110.418927</td>\n",
       "      <td>0</td>\n",
       "      <td>1</td>\n",
       "      <td>0</td>\n",
       "      <td>0</td>\n",
       "      <td>0</td>\n",
       "      <td>0</td>\n",
       "      <td>0</td>\n",
       "      <td>0</td>\n",
       "      <td>...</td>\n",
       "      <td>1</td>\n",
       "      <td>0</td>\n",
       "      <td>0</td>\n",
       "      <td>0</td>\n",
       "      <td>1</td>\n",
       "      <td>0</td>\n",
       "      <td>0</td>\n",
       "      <td>0</td>\n",
       "      <td>0</td>\n",
       "      <td>1</td>\n",
       "    </tr>\n",
       "    <tr>\n",
       "      <th>2</th>\n",
       "      <td>2.006966</td>\n",
       "      <td>99.342512</td>\n",
       "      <td>0</td>\n",
       "      <td>1</td>\n",
       "      <td>0</td>\n",
       "      <td>0</td>\n",
       "      <td>0</td>\n",
       "      <td>0</td>\n",
       "      <td>0</td>\n",
       "      <td>0</td>\n",
       "      <td>...</td>\n",
       "      <td>0</td>\n",
       "      <td>1</td>\n",
       "      <td>0</td>\n",
       "      <td>0</td>\n",
       "      <td>0</td>\n",
       "      <td>1</td>\n",
       "      <td>0</td>\n",
       "      <td>1</td>\n",
       "      <td>0</td>\n",
       "      <td>0</td>\n",
       "    </tr>\n",
       "    <tr>\n",
       "      <th>3</th>\n",
       "      <td>1.739881</td>\n",
       "      <td>99.342512</td>\n",
       "      <td>0</td>\n",
       "      <td>1</td>\n",
       "      <td>0</td>\n",
       "      <td>0</td>\n",
       "      <td>0</td>\n",
       "      <td>0</td>\n",
       "      <td>0</td>\n",
       "      <td>0</td>\n",
       "      <td>...</td>\n",
       "      <td>0</td>\n",
       "      <td>1</td>\n",
       "      <td>0</td>\n",
       "      <td>0</td>\n",
       "      <td>1</td>\n",
       "      <td>0</td>\n",
       "      <td>0</td>\n",
       "      <td>1</td>\n",
       "      <td>0</td>\n",
       "      <td>0</td>\n",
       "    </tr>\n",
       "    <tr>\n",
       "      <th>4</th>\n",
       "      <td>2.588271</td>\n",
       "      <td>120.893735</td>\n",
       "      <td>0</td>\n",
       "      <td>1</td>\n",
       "      <td>0</td>\n",
       "      <td>0</td>\n",
       "      <td>0</td>\n",
       "      <td>0</td>\n",
       "      <td>0</td>\n",
       "      <td>0</td>\n",
       "      <td>...</td>\n",
       "      <td>0</td>\n",
       "      <td>1</td>\n",
       "      <td>0</td>\n",
       "      <td>0</td>\n",
       "      <td>1</td>\n",
       "      <td>0</td>\n",
       "      <td>0</td>\n",
       "      <td>1</td>\n",
       "      <td>0</td>\n",
       "      <td>0</td>\n",
       "    </tr>\n",
       "  </tbody>\n",
       "</table>\n",
       "<p>5 rows × 47 columns</p>\n",
       "</div>"
      ],
      "text/plain": [
       "   Question_Budget  Question_HHIncome  Target_Variable_Convert  \\\n",
       "0         2.006966         122.091327                        0   \n",
       "1         2.125579         110.418927                        0   \n",
       "2         2.006966          99.342512                        0   \n",
       "3         1.739881          99.342512                        0   \n",
       "4         2.588271         120.893735                        0   \n",
       "\n",
       "   Question_Channel_Billboard  Question_Channel_Event  Question_Channel_Other  \\\n",
       "0                           1                       0                       0   \n",
       "1                           1                       0                       0   \n",
       "2                           1                       0                       0   \n",
       "3                           1                       0                       0   \n",
       "4                           1                       0                       0   \n",
       "\n",
       "   Question_Channel_Radio  Question_Channel_Referral  Question_Channel_TV  \\\n",
       "0                       0                          0                    0   \n",
       "1                       0                          0                    0   \n",
       "2                       0                          0                    0   \n",
       "3                       0                          0                    0   \n",
       "4                       0                          0                    0   \n",
       "\n",
       "   Question_Reason_to_visit_property_fair_Company  ...  Question_Age_46 - 50  \\\n",
       "0                                               1  ...                     0   \n",
       "1                                               0  ...                     1   \n",
       "2                                               0  ...                     0   \n",
       "3                                               0  ...                     0   \n",
       "4                                               0  ...                     0   \n",
       "\n",
       "   Question_Age_51 +  Question_Age_< 25  Question_MarriageStatus_Married  \\\n",
       "0                  1                  0                                0   \n",
       "1                  0                  0                                0   \n",
       "2                  1                  0                                0   \n",
       "3                  1                  0                                0   \n",
       "4                  1                  0                                0   \n",
       "\n",
       "   Question_MarriageStatus_Married with Children  \\\n",
       "0                                              0   \n",
       "1                                              1   \n",
       "2                                              0   \n",
       "3                                              1   \n",
       "4                                              1   \n",
       "\n",
       "   Question_MarriageStatus_Single  Question_Occupation_Business Employee  \\\n",
       "0                               1                                      0   \n",
       "1                               0                                      0   \n",
       "2                               1                                      0   \n",
       "3                               0                                      0   \n",
       "4                               0                                      0   \n",
       "\n",
       "   Question_Occupation_Business Owner  Question_Occupation_Civil Servant  \\\n",
       "0                                   1                                  0   \n",
       "1                                   0                                  0   \n",
       "2                                   1                                  0   \n",
       "3                                   1                                  0   \n",
       "4                                   1                                  0   \n",
       "\n",
       "   Question_Occupation_Other(Please specify)  \n",
       "0                                          0  \n",
       "1                                          1  \n",
       "2                                          0  \n",
       "3                                          0  \n",
       "4                                          0  \n",
       "\n",
       "[5 rows x 47 columns]"
      ]
     },
     "execution_count": 35,
     "metadata": {},
     "output_type": "execute_result"
    }
   ],
   "source": [
    "train = pd.get_dummies(train, columns=categorical_columns)\n",
    "train.head()"
   ]
  },
  {
   "cell_type": "markdown",
   "id": "7a2c981a",
   "metadata": {},
   "source": [
    "<h1><center><font color='blue'>Part 4 : Modeling </font></center></h1> <a class=\"anchor\" id=\"4\"></a>"
   ]
  },
  {
   "cell_type": "markdown",
   "id": "b4fda925",
   "metadata": {},
   "source": [
    "In this part one have to present the classier class to be used to submit their model that can be used to predict our target variable!"
   ]
  },
  {
   "cell_type": "code",
   "execution_count": null,
   "id": "2e895c32",
   "metadata": {},
   "outputs": [],
   "source": [
    "from sklearn.base import BaseEstimator\n",
    "import numpy as np\n",
    "\n",
    "\n",
    "class Classifier(BaseEstimator):\n",
    "    def __init__(self):\n",
    "        return\n",
    "\n",
    "    def fit(self, X, y):\n",
    "        return\n",
    "\n",
    "    def predict_proba(self, X):\n",
    "        y = np.zeros((X.shape[0],2))\n",
    "        y[:, 0] = 1.\n",
    "        return y"
   ]
  },
  {
   "cell_type": "markdown",
   "id": "30f14fd4",
   "metadata": {},
   "source": [
    "One can test their solution locally by running the ramp-test command followed by --submission ."
   ]
  },
  {
   "cell_type": "code",
   "execution_count": null,
   "id": "c059e235",
   "metadata": {},
   "outputs": [],
   "source": [
    "!ramp-test --submission starting_kit"
   ]
  },
  {
   "cell_type": "markdown",
   "id": "dc9bc1d3",
   "metadata": {},
   "source": [
    "<h1><center><font color='blue'>THE END!</font></center></h1>"
   ]
  }
 ],
 "metadata": {
  "kernelspec": {
   "display_name": "Python 3 (ipykernel)",
   "language": "python",
   "name": "python3"
  },
  "language_info": {
   "codemirror_mode": {
    "name": "ipython",
    "version": 3
   },
   "file_extension": ".py",
   "mimetype": "text/x-python",
   "name": "python",
   "nbconvert_exporter": "python",
   "pygments_lexer": "ipython3",
   "version": "3.9.18"
  }
 },
 "nbformat": 4,
 "nbformat_minor": 5
}
