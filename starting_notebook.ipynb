{
 "cells": [
  {
   "cell_type": "markdown",
   "id": "75f334f3-3976-415a-bf4a-166f0b254b87",
   "metadata": {},
   "source": [
    "# Classification Challenge"
   ]
  },
  {
   "cell_type": "code",
   "execution_count": null,
   "id": "4fd36a3b-4d17-4c0c-9d3e-00246b8d48a6",
   "metadata": {},
   "outputs": [],
   "source": []
  }
 ],
 "metadata": {
  "kernelspec": {
   "display_name": "Python 3 (ipykernel)",
   "language": "python",
   "name": "python3"
  },
  "language_info": {
   "codemirror_mode": {
    "name": "ipython",
    "version": 3
   },
   "file_extension": ".py",
   "mimetype": "text/x-python",
   "name": "python",
   "nbconvert_exporter": "python",
   "pygments_lexer": "ipython3",
   "version": "3.11.6"
  }
 },
 "nbformat": 4,
 "nbformat_minor": 5
}
